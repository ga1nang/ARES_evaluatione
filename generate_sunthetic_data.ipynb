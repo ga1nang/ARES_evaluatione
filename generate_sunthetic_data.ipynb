{
 "cells": [
  {
   "cell_type": "code",
   "execution_count": 1,
   "id": "54c2280a",
   "metadata": {},
   "outputs": [
    {
     "name": "stderr",
     "output_type": "stream",
     "text": [
      "e:\\subject\\PACE-UP\\.venv\\Lib\\site-packages\\tqdm\\auto.py:21: TqdmWarning: IProgress not found. Please update jupyter and ipywidgets. See https://ipywidgets.readthedocs.io/en/stable/user_install.html\n",
      "  from .autonotebook import tqdm as notebook_tqdm\n"
     ]
    },
    {
     "name": "stdout",
     "output_type": "stream",
     "text": [
      "vLLM not imported.\n"
     ]
    },
    {
     "data": {
      "text/plain": [
       "'e:\\\\subject\\\\PACE-UP\\\\Evaluation\\\\ARES'"
      ]
     },
     "execution_count": 1,
     "metadata": {},
     "output_type": "execute_result"
    }
   ],
   "source": [
    "import os\n",
    "from ares.ares import ARES\n",
    "import requests\n",
    "import json\n",
    "from typing import List\n",
    "os.getcwd()"
   ]
  },
  {
   "cell_type": "code",
   "execution_count": 2,
   "id": "f2324ba4",
   "metadata": {},
   "outputs": [],
   "source": [
    "synth_config = {\n",
    "    \"document_filepaths\": [\"E:\\\\subject\\\\PACE-UP\\\\code\\\\cases_test\"],  # Required parameter with no default value\n",
    "    \"few_shot_prompt_filenames\": [\"datasets\\\\clinical_cases\\\\clinical_few_shot_prompt.tsv\"],  # Required parameter with no default value\n",
    "    \"synthetic_queries_filenames\": [\"datasets\\\\output\\\\synthetic_queries.tsv\"],  # Required parameter with no default value\n",
    "    \"documents_sampled\": 94,  # Required parameter with no default value\n",
    "    \"api_model\": True, # Optional with default\n",
    "    \"percentiles\": [0, 0.05, 0.1],  # Optional with default\n",
    "    \"question_temperatures\": [0, 0.05, 0.1],  # Optional with default\n",
    "    \"synthetic_query_prompt\": \"You are an expert question-answering system. Generate only one question based on the provided document. Ensure the question is answerable within the context of the document. Do not generate multiple questions. Do not provide labels, headers, or additional text. Only return a single, clear question. Generating more than one question will be considered incorrect output.\\n\\n\",\n",
    "    \"synthetic_valid_answer_prompt\": \"You are an expert question-answering system. You must create an answer for the provided question. The answer must be answerable within the context of the document. Return only the answer, nothing else.\\n\\n\",\n",
    "    \"synthetic_contradictory_answer_prompt\": \"Create an answer for the given question that contradicts the provided document. You should create false information that disagrees with what exists within the content of the document.  Return only the false answer, without any labels or additional text.\\n\\n\",\n",
    "}"
   ]
  },
  {
   "cell_type": "code",
   "execution_count": 3,
   "id": "26f53eea",
   "metadata": {},
   "outputs": [],
   "source": [
    "ares = ARES(components=['synthetic'], synthetic_query_generator=synth_config)"
   ]
  },
  {
   "cell_type": "code",
   "execution_count": 5,
   "id": "4b70270d",
   "metadata": {},
   "outputs": [
    {
     "name": "stdout",
     "output_type": "stream",
     "text": [
      "========================================\n",
      "Saving synthetic queries to:  ['datasets\\\\output\\\\synthetic_queries.tsv']\n",
      "========================================\n",
      "\n",
      "`documents_sampled` (94) > available (93). Adjusting to 93.\n",
      "\n",
      "\n",
      "=======================================\n",
      "| Starting Synthetic Query Generation |\n",
      "=======================================\n",
      "\n",
      "Generating positive queries for all 93 documents...\n"
     ]
    },
    {
     "name": "stderr",
     "output_type": "stream",
     "text": [
      "Generating positive synthetic queries for documents 0 to 93...:   0%|          | 0/186 [00:00<?, ?it/s]\n"
     ]
    },
    {
     "ename": "KeyError",
     "evalue": "'azure_openai_config'",
     "output_type": "error",
     "traceback": [
      "\u001b[31m---------------------------------------------------------------------------\u001b[39m",
      "\u001b[31mKeyError\u001b[39m                                  Traceback (most recent call last)",
      "\u001b[36mCell\u001b[39m\u001b[36m \u001b[39m\u001b[32mIn[5]\u001b[39m\u001b[32m, line 1\u001b[39m\n\u001b[32m----> \u001b[39m\u001b[32m1\u001b[39m \u001b[43mares\u001b[49m\u001b[43m.\u001b[49m\u001b[43mgenerate_synthetic_data\u001b[49m\u001b[43m(\u001b[49m\u001b[43m)\u001b[49m\n",
      "\u001b[36mFile \u001b[39m\u001b[32me:\\subject\\PACE-UP\\Evaluation\\ARES\\ares\\ares.py:130\u001b[39m, in \u001b[36mARES.generate_synthetic_data\u001b[39m\u001b[34m(self)\u001b[39m\n\u001b[32m    128\u001b[39m     \u001b[38;5;28mprint\u001b[39m(\u001b[33m\"\u001b[39m\u001b[33mSkipping synthetic generator configuration due to missing parameters.\u001b[39m\u001b[33m\"\u001b[39m)\n\u001b[32m    129\u001b[39m \u001b[38;5;28;01melse\u001b[39;00m:\n\u001b[32m--> \u001b[39m\u001b[32m130\u001b[39m     \u001b[43msynthetic_generator_config\u001b[49m\u001b[43m(\u001b[49m\u001b[43m*\u001b[49m\u001b[43m*\u001b[49m\u001b[38;5;28;43mself\u001b[39;49m\u001b[43m.\u001b[49m\u001b[43msynthetic_query_generator_config\u001b[49m\u001b[43m)\u001b[49m\n",
      "\u001b[36mFile \u001b[39m\u001b[32me:\\subject\\PACE-UP\\Evaluation\\ARES\\ares\\synthetic_generator.py:124\u001b[39m, in \u001b[36msynthetic_generator_config\u001b[39m\u001b[34m(document_filepaths, few_shot_prompt_filenames, synthetic_queries_filenames, documents_sampled, model_choice, vllm, host_url, api_model, clean_documents, regenerate_synth_questions, percentiles, question_temperatures, regenerate_answers, number_of_negatives_added_ratio, lower_bound_for_negatives, number_of_contradictory_answers_added_ratio, number_of_positives_added_ratio, regenerate_embeddings, synthetic_query_prompt, synthetic_valid_answer_prompt, synthetic_contradictory_answer_prompt)\u001b[39m\n\u001b[32m    101\u001b[39m few_shot_examples, length_of_fewshot_prompt = load_few_shot_prompt(\n\u001b[32m    102\u001b[39m     few_shot_prompt_filename, for_fever_dataset, for_wow_dataset\n\u001b[32m    103\u001b[39m )\n\u001b[32m    104\u001b[39m synthetic_queries_config = {\n\u001b[32m    105\u001b[39m     \u001b[33m'\u001b[39m\u001b[33mfew_shot_examples\u001b[39m\u001b[33m'\u001b[39m: few_shot_examples,\n\u001b[32m    106\u001b[39m     \u001b[33m'\u001b[39m\u001b[33mlength_of_fewshot_prompt\u001b[39m\u001b[33m'\u001b[39m: length_of_fewshot_prompt,\n\u001b[32m   (...)\u001b[39m\u001b[32m    121\u001b[39m     \u001b[33m'\u001b[39m\u001b[33mlower_bound_for_negatives\u001b[39m\u001b[33m'\u001b[39m: lower_bound_for_negatives\n\u001b[32m    122\u001b[39m }\n\u001b[32m--> \u001b[39m\u001b[32m124\u001b[39m \u001b[43mgenerate_synthetic_queries\u001b[49m\u001b[43m(\u001b[49m\u001b[43mdocuments\u001b[49m\u001b[43m,\u001b[49m\u001b[43m \u001b[49m\u001b[43msynthetic_queries_config\u001b[49m\u001b[43m)\u001b[49m\n\u001b[32m    125\u001b[39m \u001b[38;5;66;03m# few_shot_examples_for_contradictory_answers = generate_contradictory_answers(\u001b[39;00m\n\u001b[32m    126\u001b[39m \u001b[38;5;66;03m#     few_shot_prompt_filename, for_fever_dataset, for_wow_dataset\u001b[39;00m\n\u001b[32m    127\u001b[39m \u001b[38;5;66;03m# )\u001b[39;00m\n\u001b[32m    128\u001b[39m \u001b[38;5;66;03m#ga1nang change\u001b[39;00m\n\u001b[32m    129\u001b[39m answer_gen_few_shot_examples, length_of_fewshot_prompt_answer_gen = generate_few_shot_prompts(\n\u001b[32m    130\u001b[39m     few_shot_prompt_filename, for_fever_dataset, for_wow_dataset\n\u001b[32m    131\u001b[39m )\n",
      "\u001b[36mFile \u001b[39m\u001b[32me:\\subject\\PACE-UP\\Evaluation\\ARES\\ares\\LLM_as_a_Judge_Adaptation\\Generate_Synthetic_Queries_and_Answers.py:600\u001b[39m, in \u001b[36mgenerate_synthetic_queries\u001b[39m\u001b[34m(documents, settings)\u001b[39m\n\u001b[32m    598\u001b[39m  \u001b[38;5;66;03m# Step 1: Generate initial set of positive synthetic queries\u001b[39;00m\n\u001b[32m    599\u001b[39m \u001b[38;5;28mprint\u001b[39m(\u001b[33mf\u001b[39m\u001b[33m\"\u001b[39m\u001b[33mGenerating positive queries for all \u001b[39m\u001b[38;5;132;01m{\u001b[39;00m\u001b[38;5;28mlen\u001b[39m(documents)\u001b[38;5;132;01m}\u001b[39;00m\u001b[33m documents...\u001b[39m\u001b[33m\"\u001b[39m)\n\u001b[32m--> \u001b[39m\u001b[32m600\u001b[39m positive_queries_df = \u001b[43mgenerate_positive_synthetic_queries\u001b[49m\u001b[43m(\u001b[49m\u001b[43mdocuments\u001b[49m\u001b[43m,\u001b[49m\u001b[43m \u001b[49m\u001b[43msettings\u001b[49m\u001b[43m,\u001b[49m\u001b[43m \u001b[49m\u001b[43mchunk_size\u001b[49m\u001b[43m)\u001b[49m\n\u001b[32m    601\u001b[39m num_to_sample = \u001b[38;5;28mlen\u001b[39m(documents)\n\u001b[32m    603\u001b[39m \u001b[38;5;66;03m# Step 2: Check if we have enough unique queries (at least 2 per document)\u001b[39;00m\n\u001b[32m    604\u001b[39m \u001b[38;5;66;03m#ga1nang: change 2 to initial_queries_per_document\u001b[39;00m\n",
      "\u001b[36mFile \u001b[39m\u001b[32me:\\subject\\PACE-UP\\Evaluation\\ARES\\ares\\LLM_as_a_Judge_Adaptation\\Generate_Synthetic_Queries_and_Answers.py:458\u001b[39m, in \u001b[36mgenerate_positive_synthetic_queries\u001b[39m\u001b[34m(documents, settings, chunk_size)\u001b[39m\n\u001b[32m    455\u001b[39m synthetic_queries = []\n\u001b[32m    456\u001b[39m \u001b[38;5;28;01mfor\u001b[39;00m _ \u001b[38;5;129;01min\u001b[39;00m \u001b[38;5;28mrange\u001b[39m(initial_queries_per_document):\n\u001b[32m    457\u001b[39m     \u001b[38;5;66;03m# Call the query generator function\u001b[39;00m\n\u001b[32m--> \u001b[39m\u001b[32m458\u001b[39m     synthetic_queries.extend(\u001b[43mgenerate_query\u001b[49m\u001b[43m(\u001b[49m\u001b[43mdocument\u001b[49m\u001b[43m,\u001b[49m\u001b[43m \u001b[49m\u001b[43msettings\u001b[49m\u001b[43m)\u001b[49m)\n\u001b[32m    459\u001b[39m     pbar.update(\u001b[32m1\u001b[39m)\n\u001b[32m    460\u001b[39m \u001b[38;5;66;03m# Store the index, document, and all generated queries\u001b[39;00m\n",
      "\u001b[36mFile \u001b[39m\u001b[32me:\\subject\\PACE-UP\\Evaluation\\ARES\\ares\\LLM_as_a_Judge_Adaptation\\Generate_Synthetic_Queries_and_Answers.py:373\u001b[39m, in \u001b[36mgenerate_query\u001b[39m\u001b[34m(document, settings)\u001b[39m\n\u001b[32m    361\u001b[39m \u001b[38;5;28;01mdef\u001b[39;00m\u001b[38;5;250m \u001b[39m\u001b[34mgenerate_query\u001b[39m(document: \u001b[38;5;28mstr\u001b[39m, settings: \u001b[38;5;28mdict\u001b[39m) -> \u001b[38;5;28mlist\u001b[39m:\n\u001b[32m    362\u001b[39m \u001b[38;5;250m    \u001b[39m\u001b[33;03m\"\"\"\u001b[39;00m\n\u001b[32m    363\u001b[39m \u001b[33;03m    Generates synthetic queries for a given document.\u001b[39;00m\n\u001b[32m    364\u001b[39m \n\u001b[32m   (...)\u001b[39m\u001b[32m    370\u001b[39m \u001b[33;03m        list: List of generated synthetic queries.\u001b[39;00m\n\u001b[32m    371\u001b[39m \u001b[33;03m    \"\"\"\u001b[39;00m\n\u001b[32m--> \u001b[39m\u001b[32m373\u001b[39m     \u001b[38;5;28;01mif\u001b[39;00m \u001b[43msettings\u001b[49m\u001b[43m[\u001b[49m\u001b[33;43m'\u001b[39;49m\u001b[33;43mazure_openai_config\u001b[39;49m\u001b[33;43m'\u001b[39;49m\u001b[43m]\u001b[49m == \u001b[38;5;28;01mTrue\u001b[39;00m:\n\u001b[32m    374\u001b[39m         \u001b[38;5;28;01mreturn\u001b[39;00m generate_synthetic_query_azure_approach(\n\u001b[32m    375\u001b[39m             document, \n\u001b[32m    376\u001b[39m             settings[\u001b[33m'\u001b[39m\u001b[33mazure_openai_config\u001b[39m\u001b[33m'\u001b[39m],\n\u001b[32m   (...)\u001b[39m\u001b[32m    383\u001b[39m             settings[\u001b[33m'\u001b[39m\u001b[33mfor_wow_dataset\u001b[39m\u001b[33m'\u001b[39m]\n\u001b[32m    384\u001b[39m         )\n\u001b[32m    385\u001b[39m     \u001b[38;5;28;01melif\u001b[39;00m settings[\u001b[33m'\u001b[39m\u001b[33mapi_model\u001b[39m\u001b[33m'\u001b[39m]:\n",
      "\u001b[31mKeyError\u001b[39m: 'azure_openai_config'"
     ]
    }
   ],
   "source": [
    "ares.generate_synthetic_data()"
   ]
  }
 ],
 "metadata": {
  "kernelspec": {
   "display_name": "Python 3",
   "language": "python",
   "name": "python3"
  },
  "language_info": {
   "codemirror_mode": {
    "name": "ipython",
    "version": 3
   },
   "file_extension": ".py",
   "mimetype": "text/x-python",
   "name": "python",
   "nbconvert_exporter": "python",
   "pygments_lexer": "ipython3",
   "version": "3.13.3"
  }
 },
 "nbformat": 4,
 "nbformat_minor": 5
}
