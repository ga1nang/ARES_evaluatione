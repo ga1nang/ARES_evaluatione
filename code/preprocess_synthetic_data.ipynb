{
 "cells": [
  {
   "cell_type": "markdown",
   "id": "d518f5b3",
   "metadata": {},
   "source": [
    "### Preprocess data"
   ]
  },
  {
   "cell_type": "code",
   "execution_count": 1,
   "id": "bc68661a",
   "metadata": {},
   "outputs": [],
   "source": [
    "import pandas as pd\n",
    "import numpy as np"
   ]
  },
  {
   "cell_type": "code",
   "execution_count": 5,
   "id": "8ae2e627",
   "metadata": {},
   "outputs": [],
   "source": [
    "data = pd.read_csv(\"..\\\\datasets_file\\\\output\\\\synthetic_queries.tsv\", sep=\"\\t\")"
   ]
  },
  {
   "cell_type": "code",
   "execution_count": 6,
   "id": "4e6cd0e3",
   "metadata": {},
   "outputs": [
    {
     "name": "stdout",
     "output_type": "stream",
     "text": [
      "<class 'pandas.core.frame.DataFrame'>\n",
      "RangeIndex: 237 entries, 0 to 236\n",
      "Data columns (total 7 columns):\n",
      " #   Column                     Non-Null Count  Dtype \n",
      "---  ------                     --------------  ----- \n",
      " 0   document_index             237 non-null    int64 \n",
      " 1   document                   237 non-null    object\n",
      " 2   synthetic_query            237 non-null    object\n",
      " 3   Context_Relevance_Label    237 non-null    object\n",
      " 4   generated_answer           144 non-null    object\n",
      " 5   Answer_Faithfulness_Label  144 non-null    object\n",
      " 6   Answer_Relevance_Label     144 non-null    object\n",
      "dtypes: int64(1), object(6)\n",
      "memory usage: 13.1+ KB\n"
     ]
    }
   ],
   "source": [
    "data.info()"
   ]
  },
  {
   "cell_type": "code",
   "execution_count": 7,
   "id": "0cfab3c7",
   "metadata": {},
   "outputs": [
    {
     "data": {
      "text/html": [
       "<div>\n",
       "<style scoped>\n",
       "    .dataframe tbody tr th:only-of-type {\n",
       "        vertical-align: middle;\n",
       "    }\n",
       "\n",
       "    .dataframe tbody tr th {\n",
       "        vertical-align: top;\n",
       "    }\n",
       "\n",
       "    .dataframe thead th {\n",
       "        text-align: right;\n",
       "    }\n",
       "</style>\n",
       "<table border=\"1\" class=\"dataframe\">\n",
       "  <thead>\n",
       "    <tr style=\"text-align: right;\">\n",
       "      <th></th>\n",
       "      <th>document_index</th>\n",
       "      <th>document</th>\n",
       "      <th>synthetic_query</th>\n",
       "      <th>Context_Relevance_Label</th>\n",
       "      <th>generated_answer</th>\n",
       "      <th>Answer_Faithfulness_Label</th>\n",
       "      <th>Answer_Relevance_Label</th>\n",
       "    </tr>\n",
       "  </thead>\n",
       "  <tbody>\n",
       "    <tr>\n",
       "      <th>0</th>\n",
       "      <td>47</td>\n",
       "      <td>b'%PDF-1.7\\r%\\xe2\\xe3\\xcf\\xd3\\r\\n114 0 obj\\r&lt;&lt;...</td>\n",
       "      <td>What are the clinical findings in this case?</td>\n",
       "      <td>Yes</td>\n",
       "      <td>The clinical syndromic diagnosis is acute flac...</td>\n",
       "      <td>No</td>\n",
       "      <td>No</td>\n",
       "    </tr>\n",
       "    <tr>\n",
       "      <th>1</th>\n",
       "      <td>17</td>\n",
       "      <td>b'%PDF-1.7\\r%\\xe2\\xe3\\xcf\\xd3\\r\\n106 0 obj\\r&lt;&lt;...</td>\n",
       "      <td>What is the most likely diagnosis for the 28-y...</td>\n",
       "      <td>Yes</td>\n",
       "      <td>Sickle cell disease.</td>\n",
       "      <td>Yes</td>\n",
       "      <td>Yes</td>\n",
       "    </tr>\n",
       "    <tr>\n",
       "      <th>2</th>\n",
       "      <td>67</td>\n",
       "      <td>b'%PDF-1.7\\r%\\xe2\\xe3\\xcf\\xd3\\r\\n121 0 obj\\r&lt;&lt;...</td>\n",
       "      <td>What is the most important differential diagno...</td>\n",
       "      <td>No</td>\n",
       "      <td>NaN</td>\n",
       "      <td>NaN</td>\n",
       "      <td>NaN</td>\n",
       "    </tr>\n",
       "    <tr>\n",
       "      <th>3</th>\n",
       "      <td>80</td>\n",
       "      <td>b'%PDF-1.7\\r%\\xe2\\xe3\\xcf\\xd3\\r\\n115 0 obj\\r&lt;&lt;...</td>\n",
       "      <td>What are the key clinical findings in the 31-y...</td>\n",
       "      <td>Yes</td>\n",
       "      <td>Sickle cell disease.</td>\n",
       "      <td>No</td>\n",
       "      <td>No</td>\n",
       "    </tr>\n",
       "    <tr>\n",
       "      <th>4</th>\n",
       "      <td>6</td>\n",
       "      <td>b'%PDF-1.7\\r%\\xe2\\xe3\\xcf\\xd3\\r\\n101 0 obj\\r&lt;&lt;...</td>\n",
       "      <td>What are the most common pathogens associated ...</td>\n",
       "      <td>Yes</td>\n",
       "      <td>The most common pathogens are Staphylococcus a...</td>\n",
       "      <td>Yes</td>\n",
       "      <td>Yes</td>\n",
       "    </tr>\n",
       "  </tbody>\n",
       "</table>\n",
       "</div>"
      ],
      "text/plain": [
       "   document_index                                           document  \\\n",
       "0              47  b'%PDF-1.7\\r%\\xe2\\xe3\\xcf\\xd3\\r\\n114 0 obj\\r<<...   \n",
       "1              17  b'%PDF-1.7\\r%\\xe2\\xe3\\xcf\\xd3\\r\\n106 0 obj\\r<<...   \n",
       "2              67  b'%PDF-1.7\\r%\\xe2\\xe3\\xcf\\xd3\\r\\n121 0 obj\\r<<...   \n",
       "3              80  b'%PDF-1.7\\r%\\xe2\\xe3\\xcf\\xd3\\r\\n115 0 obj\\r<<...   \n",
       "4               6  b'%PDF-1.7\\r%\\xe2\\xe3\\xcf\\xd3\\r\\n101 0 obj\\r<<...   \n",
       "\n",
       "                                     synthetic_query Context_Relevance_Label  \\\n",
       "0       What are the clinical findings in this case?                     Yes   \n",
       "1  What is the most likely diagnosis for the 28-y...                     Yes   \n",
       "2  What is the most important differential diagno...                      No   \n",
       "3  What are the key clinical findings in the 31-y...                     Yes   \n",
       "4  What are the most common pathogens associated ...                     Yes   \n",
       "\n",
       "                                    generated_answer  \\\n",
       "0  The clinical syndromic diagnosis is acute flac...   \n",
       "1                               Sickle cell disease.   \n",
       "2                                                NaN   \n",
       "3                               Sickle cell disease.   \n",
       "4  The most common pathogens are Staphylococcus a...   \n",
       "\n",
       "  Answer_Faithfulness_Label Answer_Relevance_Label  \n",
       "0                        No                     No  \n",
       "1                       Yes                    Yes  \n",
       "2                       NaN                    NaN  \n",
       "3                        No                     No  \n",
       "4                       Yes                    Yes  "
      ]
     },
     "execution_count": 7,
     "metadata": {},
     "output_type": "execute_result"
    }
   ],
   "source": [
    "data.head()"
   ]
  },
  {
   "cell_type": "markdown",
   "id": "89fa112d",
   "metadata": {},
   "source": [
    "### Generate strong negative Context_Relevance_Label"
   ]
  },
  {
   "cell_type": "code",
   "execution_count": 17,
   "id": "3cf9063d",
   "metadata": {},
   "outputs": [],
   "source": [
    "import ast\n",
    "from PyPDF2 import PdfReader\n",
    "from io import BytesIO\n",
    "from rank_bm25 import BM25Okapi\n",
    "from nltk.tokenize import word_tokenize\n",
    "from sklearn.model_selection import train_test_split\n",
    "\n",
    "# Turn bytes of string to bytes\n",
    "def string_to_bytes(s: str) -> bytes:\n",
    "    try:\n",
    "        return ast.literal_eval(s)\n",
    "    except Exception as e:\n",
    "        print(f\"Error converting to bytes: {e}\")\n",
    "        return b\"\"\n",
    "    \n",
    "# Extract text from PDF bytes\n",
    "def extract_text_from_pdf_bytes(pdf_bytes_string: str) -> str:\n",
    "    try:\n",
    "        pdf_bytes = ast.literal_eval(pdf_bytes_string)\n",
    "        reader = PdfReader(BytesIO(pdf_bytes))\n",
    "        return \"\\n\".join([page.extract_text() for page in reader.pages if page.extract_text()])\n",
    "    except Exception as e:\n",
    "        print(f\"[Error] Failed to extract text: {e}\")\n",
    "        return \"\"\n"
   ]
  },
  {
   "cell_type": "code",
   "execution_count": 18,
   "id": "97406ac5",
   "metadata": {},
   "outputs": [
    {
     "data": {
      "text/plain": [
       "0      82\\nA 31-Year-Old Man from Guatemala\\nWith Acu...\n",
       "1      62\\nA 28-Year-Old Man from Ghana\\nWith a Chron...\n",
       "2      92\\nA 42-Year-Old Traveller Returning\\nfrom Th...\n",
       "3      68\\nA 31-Year-Old Woman from\\nMalawi With a Ge...\n",
       "4      15\\nA 3-Year-Old Boy from Laos With Right\\nSup...\n",
       "                             ...                        \n",
       "232    39\\nA 30-Year-Old Male Chinese Trader\\nWith Fe...\n",
       "233    60\\nA 6-Year-Old Boy from Malawi\\nWith Proptos...\n",
       "234    17\\nA 34-Year-Old Man from Thailand\\nWith Feve...\n",
       "235    77\\nA 51-Year-Old Female Traveller\\nReturning ...\n",
       "236    31\\nA 6-Year-Old Boy from Malawi With\\nFever, ...\n",
       "Name: document, Length: 237, dtype: object"
      ]
     },
     "execution_count": 18,
     "metadata": {},
     "output_type": "execute_result"
    }
   ],
   "source": [
    "data['document'] = data['document'].apply(extract_text_from_pdf_bytes)\n",
    "data['document']"
   ]
  },
  {
   "cell_type": "code",
   "execution_count": 7,
   "id": "83dff20f",
   "metadata": {},
   "outputs": [],
   "source": [
    "# Tokenize the corpus\n",
    "tokenized_corpus = [word_tokenize(doc.lower()) for doc in data['document'].unique()]\n",
    "\n",
    "# Initialize BM25\n",
    "bm25 = BM25Okapi(tokenized_corpus)"
   ]
  },
  {
   "cell_type": "code",
   "execution_count": 8,
   "id": "d9361e58",
   "metadata": {},
   "outputs": [
    {
     "name": "stderr",
     "output_type": "stream",
     "text": [
      "C:\\Users\\Hi There\\AppData\\Local\\Temp\\ipykernel_20904\\1619594102.py:9: FutureWarning: Series.__getitem__ treating keys as positions is deprecated. In a future version, integer keys will always be treated as labels (consistent with DataFrame behavior). To access a value by position, use `ser.iloc[pos]`\n",
      "  if n_to_sample[0] > 0:\n",
      "C:\\Users\\Hi There\\AppData\\Local\\Temp\\ipykernel_20904\\1619594102.py:10: FutureWarning: Series.__getitem__ treating keys as positions is deprecated. In a future version, integer keys will always be treated as labels (consistent with DataFrame behavior). To access a value by position, use `ser.iloc[pos]`\n",
      "  strong_negatives_data = data[data['Context_Relevance_Label'] == \"Yes\"].sample(n=n_to_sample[0])\n"
     ]
    }
   ],
   "source": [
    "# Count number of positive and weak negative samples (as integers)\n",
    "num_of_positives = data[data['Context_Relevance_Label'] == 'Yes'].count()\n",
    "num_of_weak_negatives = data['Context_Relevance_Label'].count() - num_of_positives\n",
    "\n",
    "# Sample the difference from the positive set\n",
    "n_to_sample = num_of_positives - num_of_weak_negatives\n",
    "\n",
    "# Only sample if the number is > 0\n",
    "if n_to_sample[0] > 0:\n",
    "    strong_negatives_data = data[data['Context_Relevance_Label'] == \"Yes\"].sample(n=n_to_sample[0])\n",
    "else:\n",
    "    strong_negatives_data = pd.DataFrame()"
   ]
  },
  {
   "cell_type": "code",
   "execution_count": 9,
   "id": "125113c5",
   "metadata": {},
   "outputs": [
    {
     "data": {
      "text/plain": [
       "document_index                                                              51\n",
       "document                     43\\nA 35-Year-Old Malawian Woman With a\\nPainf...\n",
       "synthetic_query              What is the most likely diagnosis for the 35-y...\n",
       "Context_Relevance_Label                                                    Yes\n",
       "generated_answer             The macroscopic presentation and localization ...\n",
       "Answer_Faithfulness_Label                                                   No\n",
       "Answer_Relevance_Label                                                      No\n",
       "Name: 123, dtype: object"
      ]
     },
     "execution_count": 9,
     "metadata": {},
     "output_type": "execute_result"
    }
   ],
   "source": [
    "strong_negatives_data.iloc[0]"
   ]
  },
  {
   "cell_type": "code",
   "execution_count": 10,
   "id": "2cdef52d",
   "metadata": {},
   "outputs": [],
   "source": [
    "strong_negatives_data = strong_negatives_data[['document_index', 'document', 'synthetic_query', 'Context_Relevance_Label']]"
   ]
  },
  {
   "cell_type": "code",
   "execution_count": 11,
   "id": "00c091be",
   "metadata": {},
   "outputs": [],
   "source": [
    "def replace_with_bm25_neighbors(df, text_column: str) -> pd.DataFrame:\n",
    "    \"\"\"\n",
    "    For each row in a DataFrame, replace the document in `text_column` \n",
    "    with the document that has the second-highest BM25 similarity \n",
    "    (excluding itself) from the entire corpus.\n",
    "\n",
    "    Args:\n",
    "        df (pd.DataFrame): The input DataFrame.\n",
    "        text_column (str): Column name containing the document text.\n",
    "\n",
    "    Returns:\n",
    "        pd.DataFrame: A copy of the DataFrame with updated documents.\n",
    "    \"\"\"\n",
    "    df = df.copy()\n",
    "    \n",
    "    # Tokenize corpus\n",
    "    corpus = df[text_column].tolist()\n",
    "    tokenized_corpus = [word_tokenize(doc.lower()) for doc in corpus]\n",
    "\n",
    "    # Create BM25 model\n",
    "    bm25 = BM25Okapi(tokenized_corpus)\n",
    "\n",
    "    # Replace each row with the second-highest scoring document\n",
    "    new_documents = []\n",
    "    for i, query_doc in enumerate(corpus):\n",
    "        tokenized_query = word_tokenize(query_doc.lower())\n",
    "        scores = bm25.get_scores(tokenized_query)\n",
    "\n",
    "        # Exclude the current document itself by setting its score to -inf\n",
    "        scores[i] = -np.inf\n",
    "\n",
    "        # Get index of document with second-highest score (after self)\n",
    "        second_best_idx = np.argmax(scores)\n",
    "\n",
    "        new_documents.append(corpus[second_best_idx])\n",
    "\n",
    "    df[text_column] = new_documents\n",
    "    return df"
   ]
  },
  {
   "cell_type": "code",
   "execution_count": 12,
   "id": "3feb0d3f",
   "metadata": {},
   "outputs": [],
   "source": [
    "strong_negatives_data = replace_with_bm25_neighbors(strong_negatives_data, 'document')\n",
    "strong_negatives_data['Context_Relevance_Label'] = \"No\""
   ]
  },
  {
   "cell_type": "code",
   "execution_count": 13,
   "id": "ee767d42",
   "metadata": {},
   "outputs": [],
   "source": [
    "context_relevance_data = data[['document_index', 'document', 'synthetic_query', 'Context_Relevance_Label']]\n",
    "context_relevance_data = pd.concat([context_relevance_data, strong_negatives_data], ignore_index=True)"
   ]
  },
  {
   "cell_type": "code",
   "execution_count": 14,
   "id": "0ba0e75e",
   "metadata": {},
   "outputs": [
    {
     "name": "stdout",
     "output_type": "stream",
     "text": [
      "<class 'pandas.core.frame.DataFrame'>\n",
      "RangeIndex: 288 entries, 0 to 287\n",
      "Data columns (total 4 columns):\n",
      " #   Column                   Non-Null Count  Dtype \n",
      "---  ------                   --------------  ----- \n",
      " 0   document_index           288 non-null    int64 \n",
      " 1   document                 288 non-null    object\n",
      " 2   synthetic_query          288 non-null    object\n",
      " 3   Context_Relevance_Label  288 non-null    object\n",
      "dtypes: int64(1), object(3)\n",
      "memory usage: 9.1+ KB\n"
     ]
    }
   ],
   "source": [
    "context_relevance_data.info()"
   ]
  },
  {
   "cell_type": "code",
   "execution_count": 17,
   "id": "8d94021f",
   "metadata": {},
   "outputs": [],
   "source": [
    "train_context_relevance_data, test_context_relevance_data = train_test_split(context_relevance_data, test_size=0.2)"
   ]
  },
  {
   "cell_type": "code",
   "execution_count": 99,
   "id": "c86e7e5e",
   "metadata": {},
   "outputs": [],
   "source": [
    "context_relevance_data.to_csv(\"..\\\\datasets_file\\\\output\\\\Context_Relevance_Data.tsv\", sep=\"\\t\")"
   ]
  },
  {
   "cell_type": "code",
   "execution_count": 22,
   "id": "52879e9e",
   "metadata": {},
   "outputs": [],
   "source": [
    "train_context_relevance_data.to_csv(\"..\\\\datasets_file\\\\output\\\\Train_Context_Relevance_Data.tsv\", sep=\"\\t\")"
   ]
  },
  {
   "cell_type": "code",
   "execution_count": 23,
   "id": "2f30f322",
   "metadata": {},
   "outputs": [],
   "source": [
    "test_context_relevance_data.to_csv(\"..\\\\datasets_file\\\\output\\\\Test_Context_Relevance_Data.tsv\", sep=\"\\t\")"
   ]
  },
  {
   "cell_type": "markdown",
   "id": "0eeb6d97",
   "metadata": {},
   "source": [
    "### Generate Answer Faithfulness"
   ]
  },
  {
   "cell_type": "code",
   "execution_count": 19,
   "id": "204316e2",
   "metadata": {},
   "outputs": [
    {
     "name": "stdout",
     "output_type": "stream",
     "text": [
      "<class 'pandas.core.frame.DataFrame'>\n",
      "RangeIndex: 237 entries, 0 to 236\n",
      "Data columns (total 7 columns):\n",
      " #   Column                     Non-Null Count  Dtype \n",
      "---  ------                     --------------  ----- \n",
      " 0   document_index             237 non-null    int64 \n",
      " 1   document                   237 non-null    object\n",
      " 2   synthetic_query            237 non-null    object\n",
      " 3   Context_Relevance_Label    237 non-null    object\n",
      " 4   generated_answer           144 non-null    object\n",
      " 5   Answer_Faithfulness_Label  144 non-null    object\n",
      " 6   Answer_Relevance_Label     144 non-null    object\n",
      "dtypes: int64(1), object(6)\n",
      "memory usage: 13.1+ KB\n"
     ]
    }
   ],
   "source": [
    "data.info()"
   ]
  },
  {
   "cell_type": "code",
   "execution_count": 31,
   "id": "ecf60b1a",
   "metadata": {},
   "outputs": [
    {
     "data": {
      "text/plain": [
       "16"
      ]
     },
     "execution_count": 31,
     "metadata": {},
     "output_type": "execute_result"
    }
   ],
   "source": [
    "(data[\"Answer_Faithfulness_Label\"] == \"Yes\").sum() - (data[\"Answer_Faithfulness_Label\"] == \"No\").sum()"
   ]
  },
  {
   "cell_type": "code",
   "execution_count": null,
   "id": "0063040d",
   "metadata": {},
   "outputs": [],
   "source": [
    "def create_negative_answer_data(data: pd.DataFrame, column_name: str) -> pd.DataFrame:\n",
    "    # Compute how many more \"Yes\" than \"No\"\n",
    "    num_of_data = (data[column_name] == \"Yes\").sum() - (data[column_name] == \"No\").sum()\n",
    "    # Check that enough unlabeled rows exist\n",
    "    if num_of_data > data[column_name].isna().sum():\n",
    "        raise ValueError(\"Not enough unlabeled data to create the required negative samples.\")\n",
    "    # Sample negative rows from unlabeled data\n",
    "    negative_data = data[data[column_name].isna()].sample(num_of_data, random_state=29).copy()\n",
    "    # Sample answers from positive examples\n",
    "    sampled_answer = data[data[column_name] == \"Yes\"][\"generated_answer\"].dropna().sample(\n",
    "        n=num_of_data, random_state=29\n",
    "    ).reset_index(drop=True)\n",
    "    # Assign sampled answers and \"No\" label\n",
    "    negative_data[\"generated_answer\"] = sampled_answer.values\n",
    "    negative_data[column_name] = \"No\"\n",
    "    \n",
    "\n",
    "    return negative_data\n"
   ]
  },
  {
   "cell_type": "code",
   "execution_count": null,
   "id": "c2306114",
   "metadata": {},
   "outputs": [
    {
     "name": "stdout",
     "output_type": "stream",
     "text": [
      "<class 'pandas.core.frame.DataFrame'>\n",
      "Index: 16 entries, 50 to 23\n",
      "Data columns (total 7 columns):\n",
      " #   Column                     Non-Null Count  Dtype \n",
      "---  ------                     --------------  ----- \n",
      " 0   document_index             16 non-null     int64 \n",
      " 1   document                   16 non-null     object\n",
      " 2   synthetic_query            16 non-null     object\n",
      " 3   Context_Relevance_Label    16 non-null     object\n",
      " 4   generated_answer           16 non-null     object\n",
      " 5   Answer_Faithfulness_Label  16 non-null     object\n",
      " 6   Answer_Relevance_Label     0 non-null      object\n",
      "dtypes: int64(1), object(6)\n",
      "memory usage: 1.0+ KB\n"
     ]
    }
   ],
   "source": [
    "negative_answer_faithfulness_data = create_negative_answer_data(data, \"Answer_Faithfulness_Label\")\n",
    "negative_answer_faithfulness_data.info()\n",
    "answer_faithfulness_data = data[~data[\"Answer_Faithfulness_Label\"].isna()]"
   ]
  },
  {
   "cell_type": "code",
   "execution_count": 40,
   "id": "2a3bc1f8",
   "metadata": {},
   "outputs": [
    {
     "name": "stdout",
     "output_type": "stream",
     "text": [
      "<class 'pandas.core.frame.DataFrame'>\n",
      "Index: 144 entries, 0 to 236\n",
      "Data columns (total 7 columns):\n",
      " #   Column                     Non-Null Count  Dtype \n",
      "---  ------                     --------------  ----- \n",
      " 0   document_index             144 non-null    int64 \n",
      " 1   document                   144 non-null    object\n",
      " 2   synthetic_query            144 non-null    object\n",
      " 3   Context_Relevance_Label    144 non-null    object\n",
      " 4   generated_answer           144 non-null    object\n",
      " 5   Answer_Faithfulness_Label  144 non-null    object\n",
      " 6   Answer_Relevance_Label     144 non-null    object\n",
      "dtypes: int64(1), object(6)\n",
      "memory usage: 9.0+ KB\n"
     ]
    }
   ],
   "source": [
    "answer_faithfulness_data = data[~data[\"Answer_Faithfulness_Label\"].isna()]\n",
    "answer_faithfulness_data.info()"
   ]
  },
  {
   "cell_type": "code",
   "execution_count": 41,
   "id": "1fadd6b7",
   "metadata": {},
   "outputs": [
    {
     "name": "stdout",
     "output_type": "stream",
     "text": [
      "<class 'pandas.core.frame.DataFrame'>\n",
      "RangeIndex: 160 entries, 0 to 159\n",
      "Data columns (total 3 columns):\n",
      " #   Column                     Non-Null Count  Dtype \n",
      "---  ------                     --------------  ----- \n",
      " 0   document                   160 non-null    object\n",
      " 1   generated_answer           160 non-null    object\n",
      " 2   Answer_Faithfulness_Label  160 non-null    object\n",
      "dtypes: object(3)\n",
      "memory usage: 3.9+ KB\n"
     ]
    }
   ],
   "source": [
    "answer_faithfulness_data = pd.concat([answer_faithfulness_data, negative_answer_faithfulness_data], ignore_index=True)\n",
    "answer_faithfulness_data = answer_faithfulness_data[[\"document\", \"generated_answer\", \"Answer_Faithfulness_Label\"]]\n",
    "answer_faithfulness_data.info()"
   ]
  },
  {
   "cell_type": "code",
   "execution_count": 42,
   "id": "26490988",
   "metadata": {},
   "outputs": [],
   "source": [
    "train_answer_faithfulness_data, test_answer_faithfulness_data = train_test_split(answer_faithfulness_data, test_size=0.2)"
   ]
  },
  {
   "cell_type": "code",
   "execution_count": 43,
   "id": "c1047124",
   "metadata": {},
   "outputs": [],
   "source": [
    "train_answer_faithfulness_data.to_csv(\"..\\\\datasets_file\\\\output\\\\Train_Answer_Faithfulness_Data.tsv\", sep=\"\\t\")\n",
    "test_answer_faithfulness_data.to_csv(\"..\\\\datasets_file\\\\output\\\\Test_Answer_Faithfulness_Data.tsv\", sep=\"\\t\")"
   ]
  },
  {
   "cell_type": "markdown",
   "id": "d7dff19c",
   "metadata": {},
   "source": [
    "### Generate Answer Relevance"
   ]
  },
  {
   "cell_type": "code",
   "execution_count": null,
   "id": "a359e1ff",
   "metadata": {},
   "outputs": [
    {
     "name": "stdout",
     "output_type": "stream",
     "text": [
      "<class 'pandas.core.frame.DataFrame'>\n",
      "Index: 16 entries, 50 to 23\n",
      "Data columns (total 7 columns):\n",
      " #   Column                     Non-Null Count  Dtype \n",
      "---  ------                     --------------  ----- \n",
      " 0   document_index             16 non-null     int64 \n",
      " 1   document                   16 non-null     object\n",
      " 2   synthetic_query            16 non-null     object\n",
      " 3   Context_Relevance_Label    16 non-null     object\n",
      " 4   generated_answer           16 non-null     object\n",
      " 5   Answer_Faithfulness_Label  0 non-null      object\n",
      " 6   Answer_Relevance_Label     16 non-null     object\n",
      "dtypes: int64(1), object(6)\n",
      "memory usage: 1.0+ KB\n"
     ]
    }
   ],
   "source": [
    "negative_answer_relevance_data = create_negative_answer_data(data, \"Answer_Relevance_Label\")\n",
    "negative_answer_relevance_data.info()"
   ]
  },
  {
   "cell_type": "code",
   "execution_count": 45,
   "id": "a77058a4",
   "metadata": {},
   "outputs": [
    {
     "name": "stdout",
     "output_type": "stream",
     "text": [
      "<class 'pandas.core.frame.DataFrame'>\n",
      "Index: 144 entries, 0 to 236\n",
      "Data columns (total 7 columns):\n",
      " #   Column                     Non-Null Count  Dtype \n",
      "---  ------                     --------------  ----- \n",
      " 0   document_index             144 non-null    int64 \n",
      " 1   document                   144 non-null    object\n",
      " 2   synthetic_query            144 non-null    object\n",
      " 3   Context_Relevance_Label    144 non-null    object\n",
      " 4   generated_answer           144 non-null    object\n",
      " 5   Answer_Faithfulness_Label  144 non-null    object\n",
      " 6   Answer_Relevance_Label     144 non-null    object\n",
      "dtypes: int64(1), object(6)\n",
      "memory usage: 9.0+ KB\n"
     ]
    }
   ],
   "source": [
    "answer_relevance_data = data[~data[\"Answer_Relevance_Label\"].isna()]\n",
    "answer_relevance_data = data[~data[\"Answer_Relevance_Label\"].isna()]\n",
    "answer_relevance_data.info()"
   ]
  },
  {
   "cell_type": "code",
   "execution_count": 47,
   "id": "41d513cd",
   "metadata": {},
   "outputs": [
    {
     "name": "stdout",
     "output_type": "stream",
     "text": [
      "<class 'pandas.core.frame.DataFrame'>\n",
      "RangeIndex: 176 entries, 0 to 175\n",
      "Data columns (total 3 columns):\n",
      " #   Column                  Non-Null Count  Dtype \n",
      "---  ------                  --------------  ----- \n",
      " 0   synthetic_query         176 non-null    object\n",
      " 1   generated_answer        176 non-null    object\n",
      " 2   Answer_Relevance_Label  176 non-null    object\n",
      "dtypes: object(3)\n",
      "memory usage: 4.2+ KB\n"
     ]
    }
   ],
   "source": [
    "answer_relevance_data = pd.concat([answer_relevance_data, negative_answer_relevance_data], ignore_index=True)\n",
    "answer_relevance_data = answer_relevance_data[[\"synthetic_query\", \"generated_answer\", \"Answer_Relevance_Label\"]]\n",
    "answer_relevance_data.info()"
   ]
  },
  {
   "cell_type": "code",
   "execution_count": 48,
   "id": "26337843",
   "metadata": {},
   "outputs": [],
   "source": [
    "train_answer_relevance_data, test_answer_relevance_data = train_test_split(answer_relevance_data, test_size=0.2)\n",
    "train_answer_relevance_data.to_csv(\"..\\\\datasets_file\\\\output\\\\Train_Answer_Relevance_Data.tsv\", sep=\"\\t\")\n",
    "test_answer_relevance_data.to_csv(\"..\\\\datasets_file\\\\output\\\\Test_Answer_Relevance_Data.tsv\", sep=\"\\t\")"
   ]
  }
 ],
 "metadata": {
  "kernelspec": {
   "display_name": "ARES",
   "language": "python",
   "name": "python3"
  },
  "language_info": {
   "codemirror_mode": {
    "name": "ipython",
    "version": 3
   },
   "file_extension": ".py",
   "mimetype": "text/x-python",
   "name": "python",
   "nbconvert_exporter": "python",
   "pygments_lexer": "ipython3",
   "version": "3.10.16"
  }
 },
 "nbformat": 4,
 "nbformat_minor": 5
}
