{
 "cells": [
  {
   "cell_type": "code",
   "execution_count": 1,
   "id": "efa2d6e3",
   "metadata": {},
   "outputs": [
    {
     "name": "stderr",
     "output_type": "stream",
     "text": [
      "/media/pc1/Ubuntu/Extend_Data/anaconda3/envs/ares_thanh/lib/python3.9/site-packages/tqdm/auto.py:21: TqdmWarning: IProgress not found. Please update jupyter and ipywidgets. See https://ipywidgets.readthedocs.io/en/stable/user_install.html\n",
      "  from .autonotebook import tqdm as notebook_tqdm\n"
     ]
    },
    {
     "name": "stdout",
     "output_type": "stream",
     "text": [
      "vLLM not imported.\n"
     ]
    }
   ],
   "source": [
    "import sys\n",
    "import os\n",
    "\n",
    "# Add project root to sys.path\n",
    "sys.path.append(os.path.abspath(\"..\"))\n",
    "\n",
    "# Now import\n",
    "from ares import ARES\n"
   ]
  },
  {
   "cell_type": "code",
   "execution_count": null,
   "id": "9e3e9587",
   "metadata": {},
   "outputs": [
    {
     "name": "stdout",
     "output_type": "stream",
     "text": [
      "\n",
      "Warning: 'assigned_batch_size' not provided for classifier_model, using default value 1.\n",
      "\n",
      "Warning: 'gradient_accumulation_multiplier' not provided for classifier_model, using default value 32.\n",
      "Using device: cuda:0\n"
     ]
    },
    {
     "name": "stderr",
     "output_type": "stream",
     "text": [
      "Map:   0%|          | 0/218 [00:00<?, ? examples/s]Asking to pad to max_length but no maximum length is provided and the model has no predefined maximum length. Default to no padding.\n",
      "Asking to truncate to max_length but no maximum length is provided and the model has no predefined maximum length. Default to no truncation.\n",
      "Map: 100%|██████████| 218/218 [00:00<00:00, 2444.46 examples/s]\n",
      "Map: 100%|██████████| 29/29 [00:00<00:00, 2176.40 examples/s]\n",
      "Map: 100%|██████████| 29/29 [00:00<00:00, 2252.16 examples/s]\n"
     ]
    },
    {
     "name": "stdout",
     "output_type": "stream",
     "text": [
      "Loading Model\n",
      "Checkpoint Path: checkpoints/microsoft-deberta-v3-large/Context_Relevance_Label_None_2025-06-11_01-18-28.pt\n",
      "Beginning Training\n",
      "Current Epoch: 0\n"
     ]
    },
    {
     "name": "stderr",
     "output_type": "stream",
     "text": [
      "100%|██████████| 218/218 [00:47<00:00,  4.56it/s]\n"
     ]
    },
    {
     "name": "stdout",
     "output_type": "stream",
     "text": [
      "[ 0/10] train_loss: 0.69263 valid_loss: 0.68526\n",
      "Validation loss decreased (inf --> 0.685256).  Saving model ...\n",
      "Current Epoch: 1\n"
     ]
    },
    {
     "name": "stderr",
     "output_type": "stream",
     "text": [
      "100%|██████████| 29/29 [00:08<00:00,  3.25it/s]\n",
      "100%|██████████| 218/218 [00:48<00:00,  4.49it/s]\n"
     ]
    },
    {
     "name": "stdout",
     "output_type": "stream",
     "text": [
      "[ 1/10] train_loss: 0.69666 valid_loss: 0.68677\n",
      "EarlyStopping counter: 1 out of 3\n",
      "Current Epoch: 2\n"
     ]
    },
    {
     "name": "stderr",
     "output_type": "stream",
     "text": [
      "100%|██████████| 29/29 [00:02<00:00, 12.71it/s]\n",
      "100%|██████████| 218/218 [00:49<00:00,  4.42it/s]\n"
     ]
    },
    {
     "name": "stdout",
     "output_type": "stream",
     "text": [
      "[ 2/10] train_loss: 0.68583 valid_loss: 0.68820\n",
      "EarlyStopping counter: 2 out of 3\n",
      "Current Epoch: 3\n"
     ]
    },
    {
     "name": "stderr",
     "output_type": "stream",
     "text": [
      "100%|██████████| 29/29 [00:02<00:00, 12.58it/s]\n",
      "100%|██████████| 218/218 [00:49<00:00,  4.45it/s]\n"
     ]
    },
    {
     "name": "stdout",
     "output_type": "stream",
     "text": [
      "[ 3/10] train_loss: 0.68848 valid_loss: 0.69090\n",
      "EarlyStopping counter: 3 out of 3\n",
      "Early stopping\n"
     ]
    },
    {
     "name": "stderr",
     "output_type": "stream",
     "text": [
      "huggingface/tokenizers: The current process just got forked, after parallelism has already been used. Disabling parallelism to avoid deadlocks...\n",
      "To disable this warning, you can either:\n",
      "\t- Avoid using `tokenizers` before the fork if possible\n",
      "\t- Explicitly set the environment variable TOKENIZERS_PARALLELISM=(true | false)\n",
      "\u001b[31m2025/06/11 01:22:13 WARNING mlflow.models.model: Model logged without a signature and input example. Please set `input_example` parameter when logging the model to auto infer the model signature.\u001b[0m\n",
      "100%|██████████| 29/29 [00:19<00:00,  1.46it/s]\n"
     ]
    },
    {
     "name": "stdout",
     "output_type": "stream",
     "text": [
      "Loading the Best Model\n",
      "Beginning Evaluation\n"
     ]
    },
    {
     "name": "stderr",
     "output_type": "stream",
     "text": [
      "100%|██████████| 29/29 [00:02<00:00, 12.56it/s]\n"
     ]
    },
    {
     "name": "stdout",
     "output_type": "stream",
     "text": [
      "--------------------------\n",
      "Predictions and Reference Shapes\n",
      "torch.Size([29])\n",
      "torch.Size([29])\n",
      "Accuracy for Test Set: 0.3793103448275862\n"
     ]
    },
    {
     "name": "stderr",
     "output_type": "stream",
     "text": [
      "Downloading builder script: 100%|██████████| 6.79k/6.79k [00:00<00:00, 30.8MB/s]"
     ]
    },
    {
     "name": "stdout",
     "output_type": "stream",
     "text": [
      "Macro F1 for Test Set: 27.500000000000004\n",
      "Micro F1 for Test Set: 37.93103448275862\n",
      "Positive / Negative Reference Ratio: 0.379\n",
      "Saved classification checkpoint to: checkpoints/microsoft-deberta-v3-large/Context_Relevance_Label_None_2025-06-11_01-18-28.pt\n",
      "None\n"
     ]
    },
    {
     "name": "stderr",
     "output_type": "stream",
     "text": [
      "\n"
     ]
    }
   ],
   "source": [
    "classifier_config = {\n",
    "    \"training_dataset\": [\"../datasets_file/output/Train_Context_Relevance_Data.tsv\"],\n",
    "    \"validation_set\": [\"../datasets_file/output/Test_Context_Relevance_Data.tsv\"], \n",
    "    \"label_column\": [\"Context_Relevance_Label\"], \n",
    "    \"model_choice\": \"microsoft/deberta-v3-large\", # Default model is \"microsoft/deberta-v3-large\"\n",
    "    \"num_epochs\": 10, \n",
    "    \"patience_value\": , \n",
    "    \"learning_rate\": 5e-6\n",
    "}\n",
    "\n",
    "ares = ARES(classifier_model=classifier_config)\n",
    "results = ares.train_classifier()\n",
    "print(results)\n"
   ]
  },
  {
   "cell_type": "code",
   "execution_count": null,
   "id": "12ef9947",
   "metadata": {},
   "outputs": [],
   "source": []
  }
 ],
 "metadata": {
  "kernelspec": {
   "display_name": "ares_thanh",
   "language": "python",
   "name": "python3"
  },
  "language_info": {
   "codemirror_mode": {
    "name": "ipython",
    "version": 3
   },
   "file_extension": ".py",
   "mimetype": "text/x-python",
   "name": "python",
   "nbconvert_exporter": "python",
   "pygments_lexer": "ipython3",
   "version": "3.9.23"
  }
 },
 "nbformat": 4,
 "nbformat_minor": 5
}
