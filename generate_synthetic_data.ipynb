{
 "cells": [
  {
   "cell_type": "code",
   "execution_count": 1,
   "id": "54c2280a",
   "metadata": {},
   "outputs": [
    {
     "name": "stderr",
     "output_type": "stream",
     "text": [
      "c:\\Users\\Hi There\\miniconda3\\envs\\ARES\\lib\\site-packages\\tqdm\\auto.py:21: TqdmWarning: IProgress not found. Please update jupyter and ipywidgets. See https://ipywidgets.readthedocs.io/en/stable/user_install.html\n",
      "  from .autonotebook import tqdm as notebook_tqdm\n"
     ]
    },
    {
     "name": "stdout",
     "output_type": "stream",
     "text": [
      "vLLM not imported.\n"
     ]
    },
    {
     "data": {
      "text/plain": [
       "'e:\\\\subject\\\\PACE-UP\\\\Evaluation\\\\ARES'"
      ]
     },
     "execution_count": 1,
     "metadata": {},
     "output_type": "execute_result"
    }
   ],
   "source": [
    "import os\n",
    "from ares.ares import ARES\n",
    "os.getcwd()"
   ]
  },
  {
   "cell_type": "code",
   "execution_count": 2,
   "id": "f2324ba4",
   "metadata": {},
   "outputs": [],
   "source": [
    "synth_config = {\n",
    "    \"document_filepaths\": [\"E:\\\\subject\\\\PACE-UP\\\\book\\\\clinical_cases\"],  # Required parameter with no default value\n",
    "    \"few_shot_prompt_filenames\": [\"datasets_file\\\\clinical_cases\\\\clinical_few_shot_prompt.tsv\"],  # Required parameter with no default value\n",
    "    \"synthetic_queries_filenames\": [\"datasets_file\\\\output\\\\synthetic_queries.tsv\"],  # Required parameter with no default value\n",
    "    \"documents_sampled\": 1,  # Required parameter with no default value\n",
    "    \"api_model\": True, # Optional with default\n",
    "    \"model_name\": \"gemini-2.0-flash-lite\",\n",
    "    \"percentiles\": [0, 0.05, 0.1],  # Optional with default\n",
    "    \"question_temperatures\": [0, 0.05, 0.1],  # Optional with default\n",
    "    \"synthetic_query_prompt\": \"You are an expert question-answering system. Generate only one question based on the provided document. Ensure the question is answerable within the context of the document. Do not generate multiple questions. Do not provide labels, headers, or additional text. Only return a single, clear question. Generating more than one question will be considered incorrect output.\\n\\n\",\n",
    "    \"synthetic_valid_answer_prompt\": \"You are an expert question-answering system. You must create an answer for the provided question. The answer must be answerable within the context of the document. Return only the answer, nothing else.\\n\\n\",\n",
    "    \"synthetic_contradictory_answer_prompt\": \"Create an answer for the given question that contradicts the provided document. You should create false information that disagrees with what exists within the content of the document.  Return only the false answer, without any labels or additional text.\\n\\n\",\n",
    "}"
   ]
  },
  {
   "cell_type": "code",
   "execution_count": 3,
   "id": "26f53eea",
   "metadata": {},
   "outputs": [],
   "source": [
    "ares = ARES(components=['synthetic'], synthetic_query_generator=synth_config)"
   ]
  },
  {
   "cell_type": "code",
   "execution_count": 4,
   "id": "4b70270d",
   "metadata": {},
   "outputs": [
    {
     "name": "stdout",
     "output_type": "stream",
     "text": [
      "========================================\n",
      "Saving synthetic queries to:  ['datasets_file\\\\output\\\\synthetic_queries.tsv']\n",
      "========================================\n",
      "\n",
      "=======================================\n",
      "| Starting Synthetic Query Generation |\n",
      "=======================================\n",
      "\n",
      "Generating positive queries for all 1 documents...\n"
     ]
    },
    {
     "name": "stderr",
     "output_type": "stream",
     "text": [
      "Generating positive synthetic queries: 100%|██████████| 2/2 [01:06<00:00, 33.08s/it]\n"
     ]
    },
    {
     "name": "stdout",
     "output_type": "stream",
     "text": [
      "Generated: 18 queries before filtering\n",
      "After length + duplicate filtering: 4\n",
      "Extracting text and generating embeddings...\n"
     ]
    },
    {
     "name": "stderr",
     "output_type": "stream",
     "text": [
      "100%|██████████| 1/1 [00:00<00:00,  4.91it/s]\n",
      "100%|██████████| 1/1 [00:00<00:00, 999.60it/s]\n",
      "100%|██████████| 4/4 [00:00<00:00, 19.46it/s]\n"
     ]
    },
    {
     "name": "stdout",
     "output_type": "stream",
     "text": [
      "After filter_synthetic_queries(): 4\n",
      "Generating negative queries...\n",
      "Saved synthetic queries to: datasets_file\\output\\synthetic_queries.tsv\n",
      "\n",
      "=======================================\n",
      "| Synthetic query generation completed. |\n",
      "=======================================\n",
      "\n",
      "Total queries saved: 3 (Positive Set 1: 1, Positive Set 2: 1, Negative: 1)\n",
      "\n",
      "================================\n",
      "| Beginning answer generation! |\n",
      "================================\n",
      "\n",
      "Generating answers for 2 queries...\n"
     ]
    },
    {
     "name": "stderr",
     "output_type": "stream",
     "text": [
      "Generating answers... (gemini-2.0-flash-lite): 100%|██████████| 2/2 [00:07<00:00,  3.76s/it]"
     ]
    },
    {
     "name": "stdout",
     "output_type": "stream",
     "text": [
      "Generated answers for 2 queries.\n",
      "Saved positive answers to: datasets_file\\output\\synthetic_queries.tsv\n",
      "Generating negative answers for the second chunk of queries...\n",
      "Saved answers to: datasets_file\\output\\synthetic_queries.tsv\n",
      "Completed synthetic generation!\n",
      "Saved synthetic queries file to: datasets_file\\output\\synthetic_queries.tsv\n",
      "\n",
      "===============================================\n",
      "| Answer generation and processing completed. |\n",
      "===============================================\n",
      "\n"
     ]
    },
    {
     "name": "stderr",
     "output_type": "stream",
     "text": [
      "\n"
     ]
    }
   ],
   "source": [
    "ares.generate_synthetic_data()"
   ]
  },
  {
   "cell_type": "code",
   "execution_count": 5,
   "id": "80324f5e",
   "metadata": {},
   "outputs": [],
   "source": [
    "import pandas as pd\n",
    "\n",
    "triple = pd.read_csv(\"datasets_file\\\\output\\\\synthetic_queries.tsv\", sep=\"\\t\")"
   ]
  },
  {
   "cell_type": "code",
   "execution_count": 10,
   "id": "a0ccf989",
   "metadata": {},
   "outputs": [
    {
     "data": {
      "text/html": [
       "<div>\n",
       "<style scoped>\n",
       "    .dataframe tbody tr th:only-of-type {\n",
       "        vertical-align: middle;\n",
       "    }\n",
       "\n",
       "    .dataframe tbody tr th {\n",
       "        vertical-align: top;\n",
       "    }\n",
       "\n",
       "    .dataframe thead th {\n",
       "        text-align: right;\n",
       "    }\n",
       "</style>\n",
       "<table border=\"1\" class=\"dataframe\">\n",
       "  <thead>\n",
       "    <tr style=\"text-align: right;\">\n",
       "      <th></th>\n",
       "      <th>synthetic_query</th>\n",
       "      <th>Context_Relevance_Label</th>\n",
       "      <th>generated_answer</th>\n",
       "      <th>Answer_Faithfulness_Label</th>\n",
       "      <th>Answer_Relevance_Label</th>\n",
       "    </tr>\n",
       "  </thead>\n",
       "  <tbody>\n",
       "    <tr>\n",
       "      <th>0</th>\n",
       "      <td>What degree of nursing precautions needs to be implemented?</td>\n",
       "      <td>Yes</td>\n",
       "      <td>The spread of Ebola virus between humans is through direct contact with blood or bodily fluids. Specialized viral HF precautions and personal protective equipment are warranted when there is a confirmed case or high index of suspicion, such as in this case.</td>\n",
       "      <td>Yes</td>\n",
       "      <td>Yes</td>\n",
       "    </tr>\n",
       "    <tr>\n",
       "      <th>1</th>\n",
       "      <td>What are the key features of the patient's clinical presentation that support a diagnosis of Ebola virus disease?</td>\n",
       "      <td>Yes</td>\n",
       "      <td>The clinical presentation includes a 20-year-old Sudanese housewife with a 2-day history of fever, severe asthenia, chest and abdominal pain, nausea, vomiting, diarrhoea and slight non-productive cough. Vital signs: temperature 39.6°C, (103.3°F) blood pressure 90/60 mmHg, pulse 90bpm, and respiratory rate 24 cycles per minute. Physical examination revealed abdominal tenderness, especially in the right upper quadrant, hepatosplenomegaly and bleeding from the gums. The patient was prostrate and semiconscious on admission.</td>\n",
       "      <td>Yes</td>\n",
       "      <td>Yes</td>\n",
       "    </tr>\n",
       "    <tr>\n",
       "      <th>2</th>\n",
       "      <td>What degree of nursing precautions needs to be implemented?</td>\n",
       "      <td>No</td>\n",
       "      <td>NaN</td>\n",
       "      <td>NaN</td>\n",
       "      <td>NaN</td>\n",
       "    </tr>\n",
       "  </tbody>\n",
       "</table>\n",
       "</div>"
      ],
      "text/plain": [
       "                                                                                                     synthetic_query  \\\n",
       "0                                                        What degree of nursing precautions needs to be implemented?   \n",
       "1  What are the key features of the patient's clinical presentation that support a diagnosis of Ebola virus disease?   \n",
       "2                                                        What degree of nursing precautions needs to be implemented?   \n",
       "\n",
       "  Context_Relevance_Label  \\\n",
       "0                     Yes   \n",
       "1                     Yes   \n",
       "2                      No   \n",
       "\n",
       "                                                                                                                                                                                                                                                                                                                                                                                                                                                                                                                                generated_answer  \\\n",
       "0                                                                                                                                                                                                                                                                              The spread of Ebola virus between humans is through direct contact with blood or bodily fluids. Specialized viral HF precautions and personal protective equipment are warranted when there is a confirmed case or high index of suspicion, such as in this case.   \n",
       "1  The clinical presentation includes a 20-year-old Sudanese housewife with a 2-day history of fever, severe asthenia, chest and abdominal pain, nausea, vomiting, diarrhoea and slight non-productive cough. Vital signs: temperature 39.6°C, (103.3°F) blood pressure 90/60 mmHg, pulse 90bpm, and respiratory rate 24 cycles per minute. Physical examination revealed abdominal tenderness, especially in the right upper quadrant, hepatosplenomegaly and bleeding from the gums. The patient was prostrate and semiconscious on admission.   \n",
       "2                                                                                                                                                                                                                                                                                                                                                                                                                                                                                                                                            NaN   \n",
       "\n",
       "  Answer_Faithfulness_Label Answer_Relevance_Label  \n",
       "0                       Yes                    Yes  \n",
       "1                       Yes                    Yes  \n",
       "2                       NaN                    NaN  "
      ]
     },
     "execution_count": 10,
     "metadata": {},
     "output_type": "execute_result"
    }
   ],
   "source": [
    "triple[[col for col in triple.columns if col not in [\"document_index\", \"document\"]]]\n"
   ]
  },
  {
   "cell_type": "code",
   "execution_count": null,
   "id": "8fb288ce",
   "metadata": {},
   "outputs": [],
   "source": []
  }
 ],
 "metadata": {
  "kernelspec": {
   "display_name": "ARES",
   "language": "python",
   "name": "python3"
  },
  "language_info": {
   "codemirror_mode": {
    "name": "ipython",
    "version": 3
   },
   "file_extension": ".py",
   "mimetype": "text/x-python",
   "name": "python",
   "nbconvert_exporter": "python",
   "pygments_lexer": "ipython3",
   "version": "3.10.16"
  }
 },
 "nbformat": 4,
 "nbformat_minor": 5
}
