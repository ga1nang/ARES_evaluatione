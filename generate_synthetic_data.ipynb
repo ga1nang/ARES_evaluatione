{
 "cells": [
  {
   "cell_type": "code",
   "execution_count": 2,
   "id": "54c2280a",
   "metadata": {},
   "outputs": [
    {
     "name": "stdout",
     "output_type": "stream",
     "text": [
      "vLLM not imported.\n"
     ]
    },
    {
     "data": {
      "text/plain": [
       "'e:\\\\subject\\\\PACE-UP\\\\Evaluation\\\\ARES'"
      ]
     },
     "execution_count": 2,
     "metadata": {},
     "output_type": "execute_result"
    }
   ],
   "source": [
    "import os\n",
    "from ares.ares import ARES\n",
    "import requests\n",
    "import json\n",
    "from typing import List\n",
    "os.getcwd()"
   ]
  },
  {
   "cell_type": "code",
   "execution_count": 3,
   "id": "f2324ba4",
   "metadata": {},
   "outputs": [],
   "source": [
    "synth_config = {\n",
    "    \"document_filepaths\": [\"E:\\\\subject\\\\PACE-UP\\\\code\\\\cases_test\"],  # Required parameter with no default value\n",
    "    \"few_shot_prompt_filenames\": [\"datasets\\\\clinical_cases\\\\clinical_few_shot_prompt.tsv\"],  # Required parameter with no default value\n",
    "    \"synthetic_queries_filenames\": [\"datasets\\\\output\\\\synthetic_queries.tsv\"],  # Required parameter with no default value\n",
    "    \"documents_sampled\": 94,  # Required parameter with no default value\n",
    "    \"api_model\": True, # Optional with default\n",
    "    \"percentiles\": [0, 0.05, 0.1],  # Optional with default\n",
    "    \"question_temperatures\": [0, 0.05, 0.1],  # Optional with default\n",
    "    \"synthetic_query_prompt\": \"You are an expert question-answering system. Generate only one question based on the provided document. Ensure the question is answerable within the context of the document. Do not generate multiple questions. Do not provide labels, headers, or additional text. Only return a single, clear question. Generating more than one question will be considered incorrect output.\\n\\n\",\n",
    "    \"synthetic_valid_answer_prompt\": \"You are an expert question-answering system. You must create an answer for the provided question. The answer must be answerable within the context of the document. Return only the answer, nothing else.\\n\\n\",\n",
    "    \"synthetic_contradictory_answer_prompt\": \"Create an answer for the given question that contradicts the provided document. You should create false information that disagrees with what exists within the content of the document.  Return only the false answer, without any labels or additional text.\\n\\n\",\n",
    "}"
   ]
  },
  {
   "cell_type": "code",
   "execution_count": 4,
   "id": "26f53eea",
   "metadata": {},
   "outputs": [],
   "source": [
    "ares = ARES(components=['synthetic'], synthetic_query_generator=synth_config)"
   ]
  },
  {
   "cell_type": "code",
   "execution_count": 5,
   "id": "4b70270d",
   "metadata": {},
   "outputs": [
    {
     "name": "stdout",
     "output_type": "stream",
     "text": [
      "========================================\n",
      "Saving synthetic queries to:  ['datasets\\\\output\\\\synthetic_queries.tsv']\n",
      "========================================\n",
      "\n",
      "`documents_sampled` (94) > available (93). Adjusting to 93.\n",
      "\n",
      "\n",
      "=======================================\n",
      "| Starting Synthetic Query Generation |\n",
      "=======================================\n",
      "\n",
      "Generating positive queries for all 93 documents...\n"
     ]
    },
    {
     "name": "stderr",
     "output_type": "stream",
     "text": [
      "Generating positive synthetic queries for documents 0 to 93...:   0%|          | 0/186 [00:00<?, ?it/s]\n"
     ]
    },
    {
     "ename": "NameError",
     "evalue": "name 'Together' is not defined",
     "output_type": "error",
     "traceback": [
      "\u001b[31m---------------------------------------------------------------------------\u001b[39m",
      "\u001b[31mNameError\u001b[39m                                 Traceback (most recent call last)",
      "\u001b[36mCell\u001b[39m\u001b[36m \u001b[39m\u001b[32mIn[5]\u001b[39m\u001b[32m, line 1\u001b[39m\n\u001b[32m----> \u001b[39m\u001b[32m1\u001b[39m \u001b[43mares\u001b[49m\u001b[43m.\u001b[49m\u001b[43mgenerate_synthetic_data\u001b[49m\u001b[43m(\u001b[49m\u001b[43m)\u001b[49m\n",
      "\u001b[36mFile \u001b[39m\u001b[32me:\\subject\\PACE-UP\\Evaluation\\ARES\\ares\\ares.py:130\u001b[39m, in \u001b[36mARES.generate_synthetic_data\u001b[39m\u001b[34m(self)\u001b[39m\n\u001b[32m    128\u001b[39m     \u001b[38;5;28mprint\u001b[39m(\u001b[33m\"\u001b[39m\u001b[33mSkipping synthetic generator configuration due to missing parameters.\u001b[39m\u001b[33m\"\u001b[39m)\n\u001b[32m    129\u001b[39m \u001b[38;5;28;01melse\u001b[39;00m:\n\u001b[32m--> \u001b[39m\u001b[32m130\u001b[39m     \u001b[43msynthetic_generator_config\u001b[49m\u001b[43m(\u001b[49m\u001b[43m*\u001b[49m\u001b[43m*\u001b[49m\u001b[38;5;28;43mself\u001b[39;49m\u001b[43m.\u001b[49m\u001b[43msynthetic_query_generator_config\u001b[49m\u001b[43m)\u001b[49m\n",
      "\u001b[36mFile \u001b[39m\u001b[32me:\\subject\\PACE-UP\\Evaluation\\ARES\\ares\\synthetic_generator.py:124\u001b[39m, in \u001b[36msynthetic_generator_config\u001b[39m\u001b[34m(document_filepaths, few_shot_prompt_filenames, synthetic_queries_filenames, documents_sampled, model_choice, vllm, host_url, api_model, clean_documents, regenerate_synth_questions, percentiles, question_temperatures, regenerate_answers, number_of_negatives_added_ratio, lower_bound_for_negatives, number_of_contradictory_answers_added_ratio, number_of_positives_added_ratio, regenerate_embeddings, synthetic_query_prompt, synthetic_valid_answer_prompt, synthetic_contradictory_answer_prompt)\u001b[39m\n\u001b[32m    101\u001b[39m few_shot_examples, length_of_fewshot_prompt = load_few_shot_prompt(\n\u001b[32m    102\u001b[39m     few_shot_prompt_filename, for_fever_dataset, for_wow_dataset\n\u001b[32m    103\u001b[39m )\n\u001b[32m    104\u001b[39m synthetic_queries_config = {\n\u001b[32m    105\u001b[39m     \u001b[33m'\u001b[39m\u001b[33mfew_shot_examples\u001b[39m\u001b[33m'\u001b[39m: few_shot_examples,\n\u001b[32m    106\u001b[39m     \u001b[33m'\u001b[39m\u001b[33mlength_of_fewshot_prompt\u001b[39m\u001b[33m'\u001b[39m: length_of_fewshot_prompt,\n\u001b[32m   (...)\u001b[39m\u001b[32m    121\u001b[39m     \u001b[33m'\u001b[39m\u001b[33mlower_bound_for_negatives\u001b[39m\u001b[33m'\u001b[39m: lower_bound_for_negatives\n\u001b[32m    122\u001b[39m }\n\u001b[32m--> \u001b[39m\u001b[32m124\u001b[39m \u001b[43mgenerate_synthetic_queries\u001b[49m\u001b[43m(\u001b[49m\u001b[43mdocuments\u001b[49m\u001b[43m,\u001b[49m\u001b[43m \u001b[49m\u001b[43msynthetic_queries_config\u001b[49m\u001b[43m)\u001b[49m\n\u001b[32m    125\u001b[39m \u001b[38;5;66;03m# few_shot_examples_for_contradictory_answers = generate_contradictory_answers(\u001b[39;00m\n\u001b[32m    126\u001b[39m \u001b[38;5;66;03m#     few_shot_prompt_filename, for_fever_dataset, for_wow_dataset\u001b[39;00m\n\u001b[32m    127\u001b[39m \u001b[38;5;66;03m# )\u001b[39;00m\n\u001b[32m    128\u001b[39m \u001b[38;5;66;03m#ga1nang change\u001b[39;00m\n\u001b[32m    129\u001b[39m answer_gen_few_shot_examples, length_of_fewshot_prompt_answer_gen = generate_few_shot_prompts(\n\u001b[32m    130\u001b[39m     few_shot_prompt_filename, for_fever_dataset, for_wow_dataset\n\u001b[32m    131\u001b[39m )\n",
      "\u001b[36mFile \u001b[39m\u001b[32me:\\subject\\PACE-UP\\Evaluation\\ARES\\ares\\LLM_as_a_Judge_Adaptation\\Generate_Synthetic_Queries_and_Answers.py:575\u001b[39m, in \u001b[36mgenerate_synthetic_queries\u001b[39m\u001b[34m(documents, settings)\u001b[39m\n\u001b[32m    573\u001b[39m  \u001b[38;5;66;03m# Step 1: Generate initial set of positive synthetic queries\u001b[39;00m\n\u001b[32m    574\u001b[39m \u001b[38;5;28mprint\u001b[39m(\u001b[33mf\u001b[39m\u001b[33m\"\u001b[39m\u001b[33mGenerating positive queries for all \u001b[39m\u001b[38;5;132;01m{\u001b[39;00m\u001b[38;5;28mlen\u001b[39m(documents)\u001b[38;5;132;01m}\u001b[39;00m\u001b[33m documents...\u001b[39m\u001b[33m\"\u001b[39m)\n\u001b[32m--> \u001b[39m\u001b[32m575\u001b[39m positive_queries_df = \u001b[43mgenerate_positive_synthetic_queries\u001b[49m\u001b[43m(\u001b[49m\u001b[43mdocuments\u001b[49m\u001b[43m,\u001b[49m\u001b[43m \u001b[49m\u001b[43msettings\u001b[49m\u001b[43m,\u001b[49m\u001b[43m \u001b[49m\u001b[43mchunk_size\u001b[49m\u001b[43m)\u001b[49m\n\u001b[32m    576\u001b[39m num_to_sample = \u001b[38;5;28mlen\u001b[39m(documents)\n\u001b[32m    578\u001b[39m \u001b[38;5;66;03m# Step 2: Check if we have enough unique queries (at least 2 per document)\u001b[39;00m\n\u001b[32m    579\u001b[39m \u001b[38;5;66;03m#ga1nang: change 2 to initial_queries_per_document\u001b[39;00m\n",
      "\u001b[36mFile \u001b[39m\u001b[32me:\\subject\\PACE-UP\\Evaluation\\ARES\\ares\\LLM_as_a_Judge_Adaptation\\Generate_Synthetic_Queries_and_Answers.py:433\u001b[39m, in \u001b[36mgenerate_positive_synthetic_queries\u001b[39m\u001b[34m(documents, settings, chunk_size)\u001b[39m\n\u001b[32m    430\u001b[39m synthetic_queries = []\n\u001b[32m    431\u001b[39m \u001b[38;5;28;01mfor\u001b[39;00m _ \u001b[38;5;129;01min\u001b[39;00m \u001b[38;5;28mrange\u001b[39m(initial_queries_per_document):\n\u001b[32m    432\u001b[39m     \u001b[38;5;66;03m# Call the query generator function\u001b[39;00m\n\u001b[32m--> \u001b[39m\u001b[32m433\u001b[39m     synthetic_queries.extend(\u001b[43mgenerate_query\u001b[49m\u001b[43m(\u001b[49m\u001b[43mdocument\u001b[49m\u001b[43m,\u001b[49m\u001b[43m \u001b[49m\u001b[43msettings\u001b[49m\u001b[43m)\u001b[49m)\n\u001b[32m    434\u001b[39m     pbar.update(\u001b[32m1\u001b[39m)\n\u001b[32m    435\u001b[39m \u001b[38;5;66;03m# Store the index, document, and all generated queries\u001b[39;00m\n",
      "\u001b[36mFile \u001b[39m\u001b[32me:\\subject\\PACE-UP\\Evaluation\\ARES\\ares\\LLM_as_a_Judge_Adaptation\\Generate_Synthetic_Queries_and_Answers.py:373\u001b[39m, in \u001b[36mgenerate_query\u001b[39m\u001b[34m(document, settings)\u001b[39m\n\u001b[32m    361\u001b[39m \u001b[38;5;250m\u001b[39m\u001b[33;03m\"\"\"\u001b[39;00m\n\u001b[32m    362\u001b[39m \u001b[33;03mGenerates synthetic queries for a given document.\u001b[39;00m\n\u001b[32m    363\u001b[39m \n\u001b[32m   (...)\u001b[39m\u001b[32m    369\u001b[39m \u001b[33;03m    list: List of generated synthetic queries.\u001b[39;00m\n\u001b[32m    370\u001b[39m \u001b[33;03m\"\"\"\u001b[39;00m\n\u001b[32m    372\u001b[39m \u001b[38;5;28;01mif\u001b[39;00m settings[\u001b[33m'\u001b[39m\u001b[33mapi_model\u001b[39m\u001b[33m'\u001b[39m]:\n\u001b[32m--> \u001b[39m\u001b[32m373\u001b[39m     \u001b[38;5;28;01mreturn\u001b[39;00m \u001b[43mgenerate_synthetic_query_api_approach\u001b[49m\u001b[43m(\u001b[49m\u001b[43m \u001b[49m\u001b[38;5;66;43;03m# LLM_Synth_Gen\u001b[39;49;00m\n\u001b[32m    374\u001b[39m \u001b[43m        \u001b[49m\u001b[43mdocument\u001b[49m\u001b[43m,\u001b[49m\u001b[43m \u001b[49m\n\u001b[32m    375\u001b[39m \u001b[43m        \u001b[49m\u001b[43msettings\u001b[49m\u001b[43m[\u001b[49m\u001b[33;43m\"\u001b[39;49m\u001b[33;43msynthetic_query_prompt\u001b[39;49m\u001b[33;43m\"\u001b[39;49m\u001b[43m]\u001b[49m\u001b[43m,\u001b[49m\u001b[43m \u001b[49m\n\u001b[32m    376\u001b[39m \u001b[43m        \u001b[49m\u001b[43msettings\u001b[49m\u001b[43m[\u001b[49m\u001b[33;43m'\u001b[39;49m\u001b[33;43mfew_shot_examples\u001b[39;49m\u001b[33;43m'\u001b[39;49m\u001b[43m]\u001b[49m\u001b[43m,\u001b[49m\u001b[43m \u001b[49m\n\u001b[32m    377\u001b[39m \u001b[43m        \u001b[49m\u001b[43msettings\u001b[49m\u001b[43m[\u001b[49m\u001b[33;43m'\u001b[39;49m\u001b[33;43mlength_of_fewshot_prompt\u001b[39;49m\u001b[33;43m'\u001b[39;49m\u001b[43m]\u001b[49m\u001b[43m,\u001b[49m\u001b[43m \u001b[49m\n\u001b[32m    378\u001b[39m \u001b[43m        \u001b[49m\u001b[43msettings\u001b[49m\u001b[43m[\u001b[49m\u001b[33;43m'\u001b[39;49m\u001b[33;43mmodel\u001b[39;49m\u001b[33;43m'\u001b[39;49m\u001b[43m]\u001b[49m\u001b[43m,\u001b[49m\u001b[43m \u001b[49m\n\u001b[32m    379\u001b[39m \u001b[43m        \u001b[49m\u001b[43msettings\u001b[49m\u001b[43m[\u001b[49m\u001b[33;43m'\u001b[39;49m\u001b[33;43mpercentiles\u001b[39;49m\u001b[33;43m'\u001b[39;49m\u001b[43m]\u001b[49m\u001b[43m,\u001b[49m\u001b[43m \u001b[49m\n\u001b[32m    380\u001b[39m \u001b[43m        \u001b[49m\u001b[43msettings\u001b[49m\u001b[43m[\u001b[49m\u001b[33;43m'\u001b[39;49m\u001b[33;43mfor_fever_dataset\u001b[39;49m\u001b[33;43m'\u001b[39;49m\u001b[43m]\u001b[49m\u001b[43m,\u001b[49m\u001b[43m \u001b[49m\n\u001b[32m    381\u001b[39m \u001b[43m        \u001b[49m\u001b[43msettings\u001b[49m\u001b[43m[\u001b[49m\u001b[33;43m'\u001b[39;49m\u001b[33;43mfor_wow_dataset\u001b[39;49m\u001b[33;43m'\u001b[39;49m\u001b[43m]\u001b[49m\n\u001b[32m    382\u001b[39m \u001b[43m    \u001b[49m\u001b[43m)\u001b[49m\n\u001b[32m    383\u001b[39m \u001b[38;5;28;01melse\u001b[39;00m: \n\u001b[32m    384\u001b[39m     \u001b[38;5;28;01mreturn\u001b[39;00m generate_synthetic_query_llm_approach( \u001b[38;5;66;03m# LLM_Generation\u001b[39;00m\n\u001b[32m    385\u001b[39m     document, \n\u001b[32m    386\u001b[39m     settings[\u001b[33m'\u001b[39m\u001b[33mfew_shot_examples\u001b[39m\u001b[33m'\u001b[39m], \n\u001b[32m   (...)\u001b[39m\u001b[32m    393\u001b[39m     settings[\u001b[33m'\u001b[39m\u001b[33mfor_wow_dataset\u001b[39m\u001b[33m'\u001b[39m]\n\u001b[32m    394\u001b[39m     )\n",
      "\u001b[36mFile \u001b[39m\u001b[32me:\\subject\\PACE-UP\\Evaluation\\ARES\\ares\\LLM_as_a_Judge_Adaptation\\LLM_Synthetic_Generation.py:56\u001b[39m, in \u001b[36mgenerate_synthetic_query_api_approach\u001b[39m\u001b[34m(document, synthetic_query_prompt, prompt, length_of_fewshot_prompt, model_name, percentiles, for_fever_dataset, for_wow_dataset, num_queries)\u001b[39m\n\u001b[32m     52\u001b[39m     prompt_with_document += \u001b[33m\"\u001b[39m\u001b[38;5;130;01m\\n\u001b[39;00m\u001b[33mQuestion: \u001b[39m\u001b[33m\"\u001b[39m\n\u001b[32m     54\u001b[39m TOGETHER_API_KEY = os.getenv(\u001b[33m\"\u001b[39m\u001b[33mTOGETHER_API_KEY\u001b[39m\u001b[33m\"\u001b[39m)\n\u001b[32m---> \u001b[39m\u001b[32m56\u001b[39m client = \u001b[43mTogether\u001b[49m(api_key=TOGETHER_API_KEY)\n\u001b[32m     58\u001b[39m \u001b[38;5;66;03m# Generate queries for each percentile, repeating to reach num_queries\u001b[39;00m\n\u001b[32m     59\u001b[39m \u001b[38;5;66;03m# ga1nang: fix the temperature because this is medical\u001b[39;00m\n\u001b[32m     60\u001b[39m \u001b[38;5;28;01mfor\u001b[39;00m _ \u001b[38;5;129;01min\u001b[39;00m \u001b[38;5;28mrange\u001b[39m(num_queries):\n",
      "\u001b[31mNameError\u001b[39m: name 'Together' is not defined"
     ]
    }
   ],
   "source": [
    "ares.generate_synthetic_data()"
   ]
  }
 ],
 "metadata": {
  "kernelspec": {
   "display_name": "Python 3",
   "language": "python",
   "name": "python3"
  },
  "language_info": {
   "codemirror_mode": {
    "name": "ipython",
    "version": 3
   },
   "file_extension": ".py",
   "mimetype": "text/x-python",
   "name": "python",
   "nbconvert_exporter": "python",
   "pygments_lexer": "ipython3",
   "version": "3.13.3"
  }
 },
 "nbformat": 4,
 "nbformat_minor": 5
}
