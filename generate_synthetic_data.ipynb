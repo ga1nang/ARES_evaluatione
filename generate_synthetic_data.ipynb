{
 "cells": [
  {
   "cell_type": "code",
   "execution_count": 1,
   "id": "54c2280a",
   "metadata": {},
   "outputs": [
    {
     "name": "stderr",
     "output_type": "stream",
     "text": [
      "c:\\Users\\Hi There\\miniconda3\\envs\\ARES\\lib\\site-packages\\tqdm\\auto.py:21: TqdmWarning: IProgress not found. Please update jupyter and ipywidgets. See https://ipywidgets.readthedocs.io/en/stable/user_install.html\n",
      "  from .autonotebook import tqdm as notebook_tqdm\n"
     ]
    },
    {
     "name": "stdout",
     "output_type": "stream",
     "text": [
      "vLLM not imported.\n"
     ]
    },
    {
     "data": {
      "text/plain": [
       "'e:\\\\subject\\\\PACE-UP\\\\Evaluation\\\\ARES'"
      ]
     },
     "execution_count": 1,
     "metadata": {},
     "output_type": "execute_result"
    }
   ],
   "source": [
    "import os\n",
    "from ares.ares import ARES\n",
    "os.getcwd()"
   ]
  },
  {
   "cell_type": "code",
   "execution_count": 2,
   "id": "f2324ba4",
   "metadata": {},
   "outputs": [],
   "source": [
    "synth_config = {\n",
    "    \"document_filepaths\": [\"E:\\\\subject\\\\PACE-UP\\\\book\\\\clinical_cases\"],  # Required parameter with no default value\n",
    "    \"few_shot_prompt_filenames\": [\"datasets_file\\\\clinical_cases\\\\clinical_few_shot_prompt.tsv\"],  # Required parameter with no default value\n",
    "    \"synthetic_queries_filenames\": [\"datasets_file\\\\output\\\\synthetic_queries.tsv\"],  # Required parameter with no default value\n",
    "    \"documents_sampled\": 1,  # Required parameter with no default value\n",
    "    \"api_model\": True, # Optional with default\n",
    "    \"model_name\": \"gemini-2.0-flash-lite\",\n",
    "    \"percentiles\": [0, 0.05, 0.1],  # Optional with default\n",
    "    \"question_temperatures\": [0, 0.05, 0.1],  # Optional with default\n",
    "    \"synthetic_query_prompt\": \"You are an expert question-answering system. Generate only one question based on the provided document. Ensure the question is answerable within the context of the document. Do not generate multiple questions. Do not provide labels, headers, or additional text. Only return a single, clear question. Generating more than one question will be considered incorrect output.\\n\\n\",\n",
    "    \"synthetic_valid_answer_prompt\": \"You are an expert question-answering system. You must create an answer for the provided question. The answer must be answerable within the context of the document. Return only the answer, nothing else.\\n\\n\",\n",
    "    \"synthetic_contradictory_answer_prompt\": \"Create an answer for the given question that contradicts the provided document. You should create false information that disagrees with what exists within the content of the document.  Return only the false answer, without any labels or additional text.\\n\\n\",\n",
    "}"
   ]
  },
  {
   "cell_type": "code",
   "execution_count": 3,
   "id": "26f53eea",
   "metadata": {},
   "outputs": [],
   "source": [
    "ares = ARES(components=['synthetic'], synthetic_query_generator=synth_config)"
   ]
  },
  {
   "cell_type": "code",
   "execution_count": 4,
   "id": "4b70270d",
   "metadata": {},
   "outputs": [
    {
     "name": "stdout",
     "output_type": "stream",
     "text": [
      "========================================\n",
      "Saving synthetic queries to:  ['datasets_file\\\\output\\\\synthetic_queries.tsv']\n",
      "========================================\n",
      "\n",
      "=======================================\n",
      "| Starting Synthetic Query Generation |\n",
      "=======================================\n",
      "\n",
      "Generating positive queries for all 1 documents...\n"
     ]
    },
    {
     "name": "stderr",
     "output_type": "stream",
     "text": [
      "Generating positive synthetic queries:   0%|          | 0/2 [00:00<?, ?it/s]"
     ]
    },
    {
     "name": "stdout",
     "output_type": "stream",
     "text": [
      "[Gemini] Error at percentile 0 (attempt 1): 404 Not Found. {'message': '', 'status': 'Not Found'}\n",
      "[Gemini] Error at percentile 0 (attempt 2): 404 Not Found. {'message': '', 'status': 'Not Found'}\n",
      "[Gemini] Error at percentile 0 (attempt 3): 404 Not Found. {'message': '', 'status': 'Not Found'}\n"
     ]
    },
    {
     "name": "stderr",
     "output_type": "stream",
     "text": [
      "Generating positive synthetic queries:   0%|          | 0/2 [00:08<?, ?it/s]\n"
     ]
    },
    {
     "ename": "KeyboardInterrupt",
     "evalue": "",
     "output_type": "error",
     "traceback": [
      "\u001b[1;31m---------------------------------------------------------------------------\u001b[0m",
      "\u001b[1;31mKeyboardInterrupt\u001b[0m                         Traceback (most recent call last)",
      "Cell \u001b[1;32mIn[4], line 1\u001b[0m\n\u001b[1;32m----> 1\u001b[0m \u001b[43mares\u001b[49m\u001b[38;5;241;43m.\u001b[39;49m\u001b[43mgenerate_synthetic_data\u001b[49m\u001b[43m(\u001b[49m\u001b[43m)\u001b[49m\n",
      "File \u001b[1;32me:\\subject\\PACE-UP\\Evaluation\\ARES\\ares\\ares.py:130\u001b[0m, in \u001b[0;36mARES.generate_synthetic_data\u001b[1;34m(self)\u001b[0m\n\u001b[0;32m    128\u001b[0m     \u001b[38;5;28mprint\u001b[39m(\u001b[38;5;124m\"\u001b[39m\u001b[38;5;124mSkipping synthetic generator configuration due to missing parameters.\u001b[39m\u001b[38;5;124m\"\u001b[39m)\n\u001b[0;32m    129\u001b[0m \u001b[38;5;28;01melse\u001b[39;00m:\n\u001b[1;32m--> 130\u001b[0m     synthetic_generator_config(\u001b[38;5;241m*\u001b[39m\u001b[38;5;241m*\u001b[39m\u001b[38;5;28mself\u001b[39m\u001b[38;5;241m.\u001b[39msynthetic_query_generator_config)\n",
      "File \u001b[1;32me:\\subject\\PACE-UP\\Evaluation\\ARES\\ares\\synthetic_generator.py:127\u001b[0m, in \u001b[0;36msynthetic_generator_config\u001b[1;34m(document_filepaths, few_shot_prompt_filenames, synthetic_queries_filenames, documents_sampled, model_choice, vllm, host_url, api_model, model_name, clean_documents, regenerate_synth_questions, percentiles, question_temperatures, regenerate_answers, number_of_negatives_added_ratio, lower_bound_for_negatives, number_of_contradictory_answers_added_ratio, number_of_positives_added_ratio, regenerate_embeddings, synthetic_query_prompt, synthetic_valid_answer_prompt, synthetic_contradictory_answer_prompt)\u001b[0m\n\u001b[0;32m    104\u001b[0m few_shot_examples \u001b[38;5;241m=\u001b[39m load_few_shot_prompt_from_md(\n\u001b[0;32m    105\u001b[0m     few_shot_prompt_filename\n\u001b[0;32m    106\u001b[0m )\n\u001b[0;32m    107\u001b[0m synthetic_queries_config \u001b[38;5;241m=\u001b[39m {\n\u001b[0;32m    108\u001b[0m     \u001b[38;5;124m'\u001b[39m\u001b[38;5;124mfew_shot_examples\u001b[39m\u001b[38;5;124m'\u001b[39m: few_shot_examples,\n\u001b[0;32m    109\u001b[0m     \u001b[38;5;124m'\u001b[39m\u001b[38;5;124mdevice\u001b[39m\u001b[38;5;124m'\u001b[39m: device,\n\u001b[1;32m   (...)\u001b[0m\n\u001b[0;32m    124\u001b[0m     \u001b[38;5;124m'\u001b[39m\u001b[38;5;124mlower_bound_for_negatives\u001b[39m\u001b[38;5;124m'\u001b[39m: lower_bound_for_negatives\n\u001b[0;32m    125\u001b[0m }\n\u001b[1;32m--> 127\u001b[0m \u001b[43mgenerate_synthetic_queries\u001b[49m\u001b[43m(\u001b[49m\u001b[43mdocuments\u001b[49m\u001b[43m,\u001b[49m\u001b[43m \u001b[49m\u001b[43msynthetic_queries_config\u001b[49m\u001b[43m)\u001b[49m\n\u001b[0;32m    129\u001b[0m \u001b[38;5;66;03m# few_shot_examples_for_contradictory_answers = generate_contradictory_answers(\u001b[39;00m\n\u001b[0;32m    130\u001b[0m \u001b[38;5;66;03m#     few_shot_prompt_filename, for_fever_dataset, for_wow_dataset\u001b[39;00m\n\u001b[0;32m    131\u001b[0m \u001b[38;5;66;03m# )\u001b[39;00m\n\u001b[1;32m   (...)\u001b[0m\n\u001b[0;32m    135\u001b[0m \u001b[38;5;66;03m#     few_shot_prompt_filename, for_fever_dataset, for_wow_dataset\u001b[39;00m\n\u001b[0;32m    136\u001b[0m \u001b[38;5;66;03m# )\u001b[39;00m\n\u001b[0;32m    138\u001b[0m synthetic_answers_config \u001b[38;5;241m=\u001b[39m {\n\u001b[0;32m    139\u001b[0m     \u001b[38;5;124m'\u001b[39m\u001b[38;5;124mregenerate_answers\u001b[39m\u001b[38;5;124m'\u001b[39m: regenerate_answers,\n\u001b[0;32m    140\u001b[0m     \u001b[38;5;124m'\u001b[39m\u001b[38;5;124manswer_gen_few_shot_examples\u001b[39m\u001b[38;5;124m'\u001b[39m: few_shot_examples,\n\u001b[1;32m   (...)\u001b[0m\n\u001b[0;32m    155\u001b[0m     \u001b[38;5;124m'\u001b[39m\u001b[38;5;124mregenerate_embeddings\u001b[39m\u001b[38;5;124m'\u001b[39m: regenerate_embeddings\n\u001b[0;32m    156\u001b[0m }\n",
      "File \u001b[1;32me:\\subject\\PACE-UP\\Evaluation\\ARES\\ares\\LLM_as_a_Judge_Adaptation\\Generate_Synthetic_Queries_and_Answers.py:760\u001b[0m, in \u001b[0;36mgenerate_synthetic_queries\u001b[1;34m(documents, settings)\u001b[0m\n\u001b[0;32m    757\u001b[0m \u001b[38;5;28mprint\u001b[39m(\u001b[38;5;124mf\u001b[39m\u001b[38;5;124m\"\u001b[39m\u001b[38;5;124mGenerating positive queries for all \u001b[39m\u001b[38;5;132;01m{\u001b[39;00mnum_documents\u001b[38;5;132;01m}\u001b[39;00m\u001b[38;5;124m documents...\u001b[39m\u001b[38;5;124m\"\u001b[39m)\n\u001b[0;32m    759\u001b[0m \u001b[38;5;66;03m# Step 1: Generate initial positive queries\u001b[39;00m\n\u001b[1;32m--> 760\u001b[0m positive_queries \u001b[38;5;241m=\u001b[39m \u001b[43mgenerate_positive_synthetic_queries\u001b[49m\u001b[43m(\u001b[49m\u001b[43mdocuments\u001b[49m\u001b[43m,\u001b[49m\u001b[43m \u001b[49m\u001b[43msettings\u001b[49m\u001b[43m)\u001b[49m\n\u001b[0;32m    762\u001b[0m \u001b[38;5;66;03m# Step 2: Ensure enough unique queries\u001b[39;00m\n\u001b[0;32m    763\u001b[0m \u001b[38;5;28;01mwhile\u001b[39;00m \u001b[38;5;28mlen\u001b[39m(positive_queries) \u001b[38;5;241m<\u001b[39m num_documents \u001b[38;5;241m*\u001b[39m initial_queries_per_document:\n",
      "File \u001b[1;32me:\\subject\\PACE-UP\\Evaluation\\ARES\\ares\\LLM_as_a_Judge_Adaptation\\Generate_Synthetic_Queries_and_Answers.py:550\u001b[0m, in \u001b[0;36mgenerate_positive_synthetic_queries\u001b[1;34m(documents, settings)\u001b[0m\n\u001b[0;32m    548\u001b[0m \u001b[38;5;28;01mfor\u001b[39;00m _ \u001b[38;5;129;01min\u001b[39;00m \u001b[38;5;28mrange\u001b[39m(initial_queries_per_document):\n\u001b[0;32m    549\u001b[0m     \u001b[38;5;28;01mtry\u001b[39;00m:\n\u001b[1;32m--> 550\u001b[0m         queries \u001b[38;5;241m=\u001b[39m \u001b[43mgenerate_query\u001b[49m\u001b[43m(\u001b[49m\u001b[43mdoc_bytes\u001b[49m\u001b[43m,\u001b[49m\u001b[43m \u001b[49m\u001b[43msettings\u001b[49m\u001b[43m,\u001b[49m\u001b[43m \u001b[49m\u001b[43mclient\u001b[49m\u001b[43m)\u001b[49m  \u001b[38;5;66;03m# Must return list of strings\u001b[39;00m\n\u001b[0;32m    551\u001b[0m         \u001b[38;5;28;01mfor\u001b[39;00m query \u001b[38;5;129;01min\u001b[39;00m queries:\n\u001b[0;32m    552\u001b[0m             all_queries\u001b[38;5;241m.\u001b[39mappend({\n\u001b[0;32m    553\u001b[0m                 \u001b[38;5;124m\"\u001b[39m\u001b[38;5;124mdocument_index\u001b[39m\u001b[38;5;124m\"\u001b[39m: doc_index,\n\u001b[0;32m    554\u001b[0m                 \u001b[38;5;124m\"\u001b[39m\u001b[38;5;124mdocument\u001b[39m\u001b[38;5;124m\"\u001b[39m: \u001b[38;5;124mf\u001b[39m\u001b[38;5;124m\"\u001b[39m\u001b[38;5;124m<PDF \u001b[39m\u001b[38;5;132;01m{\u001b[39;00mdoc_index\u001b[38;5;132;01m}\u001b[39;00m\u001b[38;5;124m>\u001b[39m\u001b[38;5;124m\"\u001b[39m,\n\u001b[0;32m    555\u001b[0m                 \u001b[38;5;124m\"\u001b[39m\u001b[38;5;124msynthetic_query\u001b[39m\u001b[38;5;124m\"\u001b[39m: query\n\u001b[0;32m    556\u001b[0m             })\n",
      "File \u001b[1;32me:\\subject\\PACE-UP\\Evaluation\\ARES\\ares\\LLM_as_a_Judge_Adaptation\\Generate_Synthetic_Queries_and_Answers.py:407\u001b[0m, in \u001b[0;36mgenerate_query\u001b[1;34m(document, settings, client)\u001b[0m\n\u001b[0;32m    395\u001b[0m \u001b[38;5;28;01mdef\u001b[39;00m\u001b[38;5;250m \u001b[39m\u001b[38;5;21mgenerate_query\u001b[39m(document: \u001b[38;5;28mbytes\u001b[39m, settings: \u001b[38;5;28mdict\u001b[39m, client) \u001b[38;5;241m-\u001b[39m\u001b[38;5;241m>\u001b[39m \u001b[38;5;28mlist\u001b[39m:\n\u001b[0;32m    396\u001b[0m \u001b[38;5;250m    \u001b[39m\u001b[38;5;124;03m\"\"\"\u001b[39;00m\n\u001b[0;32m    397\u001b[0m \u001b[38;5;124;03m    Generates synthetic queries for a given document.\u001b[39;00m\n\u001b[0;32m    398\u001b[0m \n\u001b[1;32m   (...)\u001b[0m\n\u001b[0;32m    404\u001b[0m \u001b[38;5;124;03m        list: List of generated synthetic queries.\u001b[39;00m\n\u001b[0;32m    405\u001b[0m \u001b[38;5;124;03m    \"\"\"\u001b[39;00m\n\u001b[1;32m--> 407\u001b[0m     \u001b[38;5;28;01mreturn\u001b[39;00m \u001b[43mgenerate_synthetic_query_gemini_approach\u001b[49m\u001b[43m(\u001b[49m\u001b[43m \u001b[49m\u001b[38;5;66;43;03m# LLM_Synth_Gen\u001b[39;49;00m\n\u001b[0;32m    408\u001b[0m \u001b[43m        \u001b[49m\u001b[43mdocument\u001b[49m\u001b[43m,\u001b[49m\u001b[43m \u001b[49m\n\u001b[0;32m    409\u001b[0m \u001b[43m        \u001b[49m\u001b[43msettings\u001b[49m\u001b[43m[\u001b[49m\u001b[38;5;124;43m\"\u001b[39;49m\u001b[38;5;124;43msynthetic_query_prompt\u001b[39;49m\u001b[38;5;124;43m\"\u001b[39;49m\u001b[43m]\u001b[49m\u001b[43m,\u001b[49m\u001b[43m \u001b[49m\n\u001b[0;32m    410\u001b[0m \u001b[43m        \u001b[49m\u001b[43msettings\u001b[49m\u001b[43m[\u001b[49m\u001b[38;5;124;43m'\u001b[39;49m\u001b[38;5;124;43mfew_shot_examples\u001b[39;49m\u001b[38;5;124;43m'\u001b[39;49m\u001b[43m]\u001b[49m\u001b[43m,\u001b[49m\u001b[43m \u001b[49m\n\u001b[0;32m    411\u001b[0m \u001b[43m        \u001b[49m\u001b[43msettings\u001b[49m\u001b[43m[\u001b[49m\u001b[38;5;124;43m'\u001b[39;49m\u001b[38;5;124;43mmodel_name\u001b[39;49m\u001b[38;5;124;43m'\u001b[39;49m\u001b[43m]\u001b[49m\u001b[43m,\u001b[49m\u001b[43m \u001b[49m\n\u001b[0;32m    412\u001b[0m \u001b[43m        \u001b[49m\u001b[43msettings\u001b[49m\u001b[43m[\u001b[49m\u001b[38;5;124;43m'\u001b[39;49m\u001b[38;5;124;43mpercentiles\u001b[39;49m\u001b[38;5;124;43m'\u001b[39;49m\u001b[43m]\u001b[49m\u001b[43m,\u001b[49m\n\u001b[0;32m    413\u001b[0m \u001b[43m        \u001b[49m\u001b[43mclient\u001b[49m\u001b[38;5;241;43m=\u001b[39;49m\u001b[43mclient\u001b[49m\n\u001b[0;32m    414\u001b[0m \u001b[43m    \u001b[49m\u001b[43m)\u001b[49m\n",
      "File \u001b[1;32me:\\subject\\PACE-UP\\Evaluation\\ARES\\ares\\LLM_as_a_Judge_Adaptation\\LLM_Synthetic_Generation.py:238\u001b[0m, in \u001b[0;36mgenerate_synthetic_query_gemini_approach\u001b[1;34m(doc_data, synthetic_query_prompt, few_shot_prompt, model_name, percentiles, num_queries, client)\u001b[0m\n\u001b[0;32m    235\u001b[0m             time\u001b[38;5;241m.\u001b[39msleep(\u001b[38;5;241m60\u001b[39m)\n\u001b[0;32m    237\u001b[0m     \u001b[38;5;66;03m# Short wait before retrying\u001b[39;00m\n\u001b[1;32m--> 238\u001b[0m     \u001b[43mtime\u001b[49m\u001b[38;5;241;43m.\u001b[39;49m\u001b[43msleep\u001b[49m\u001b[43m(\u001b[49m\u001b[38;5;241;43m2\u001b[39;49m\u001b[43m)\u001b[49m\n\u001b[0;32m    240\u001b[0m \u001b[38;5;28;01mif\u001b[39;00m \u001b[38;5;129;01mnot\u001b[39;00m success:\n\u001b[0;32m    241\u001b[0m     \u001b[38;5;28mprint\u001b[39m(\u001b[38;5;124mf\u001b[39m\u001b[38;5;124m\"\u001b[39m\u001b[38;5;124m[Gemini] Failed after 5 attempts for percentile \u001b[39m\u001b[38;5;132;01m{\u001b[39;00mpercentile\u001b[38;5;132;01m}\u001b[39;00m\u001b[38;5;124m\"\u001b[39m)\n",
      "\u001b[1;31mKeyboardInterrupt\u001b[0m: "
     ]
    }
   ],
   "source": [
    "ares.generate_synthetic_data()"
   ]
  },
  {
   "cell_type": "code",
   "execution_count": null,
   "id": "80324f5e",
   "metadata": {},
   "outputs": [],
   "source": []
  }
 ],
 "metadata": {
  "kernelspec": {
   "display_name": "ARES",
   "language": "python",
   "name": "python3"
  },
  "language_info": {
   "codemirror_mode": {
    "name": "ipython",
    "version": 3
   },
   "file_extension": ".py",
   "mimetype": "text/x-python",
   "name": "python",
   "nbconvert_exporter": "python",
   "pygments_lexer": "ipython3",
   "version": "3.10.16"
  }
 },
 "nbformat": 4,
 "nbformat_minor": 5
}
