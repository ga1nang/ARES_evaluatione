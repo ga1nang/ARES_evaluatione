{
 "cells": [
  {
   "cell_type": "code",
   "execution_count": 7,
   "id": "54c2280a",
   "metadata": {},
   "outputs": [
    {
     "data": {
      "text/plain": [
       "'e:\\\\subject\\\\PACE-UP\\\\Evaluation\\\\ARES'"
      ]
     },
     "execution_count": 7,
     "metadata": {},
     "output_type": "execute_result"
    }
   ],
   "source": [
    "import os\n",
    "from ares.ares import ARES\n",
    "os.getcwd()"
   ]
  },
  {
   "cell_type": "code",
   "execution_count": 8,
   "id": "f2324ba4",
   "metadata": {},
   "outputs": [],
   "source": [
    "synth_config = {\n",
    "    \"document_filepaths\": [\"E:\\\\subject\\\\PACE-UP\\\\code\\\\cases_test\"],  # Required parameter with no default value\n",
    "    \"few_shot_prompt_filenames\": [\"datasets_file\\\\clinical_cases\\\\clinical_few_shot_prompt.tsv\"],  # Required parameter with no default value\n",
    "    \"synthetic_queries_filenames\": [\"datasets_file\\\\output\\\\synthetic_queries.tsv\"],  # Required parameter with no default value\n",
    "    \"documents_sampled\": 94,  # Required parameter with no default value\n",
    "    \"api_model\": True, # Optional with default\n",
    "    \"percentiles\": [0, 0.05, 0.1],  # Optional with default\n",
    "    \"question_temperatures\": [0, 0.05, 0.1],  # Optional with default\n",
    "    \"synthetic_query_prompt\": \"You are an expert question-answering system. Generate only one question based on the provided document. Ensure the question is answerable within the context of the document. Do not generate multiple questions. Do not provide labels, headers, or additional text. Only return a single, clear question. Generating more than one question will be considered incorrect output.\\n\\n\",\n",
    "    \"synthetic_valid_answer_prompt\": \"You are an expert question-answering system. You must create an answer for the provided question. The answer must be answerable within the context of the document. Return only the answer, nothing else.\\n\\n\",\n",
    "    \"synthetic_contradictory_answer_prompt\": \"Create an answer for the given question that contradicts the provided document. You should create false information that disagrees with what exists within the content of the document.  Return only the false answer, without any labels or additional text.\\n\\n\",\n",
    "}"
   ]
  },
  {
   "cell_type": "code",
   "execution_count": 9,
   "id": "26f53eea",
   "metadata": {},
   "outputs": [],
   "source": [
    "ares = ARES(components=['synthetic'], synthetic_query_generator=synth_config)"
   ]
  },
  {
   "cell_type": "code",
   "execution_count": 10,
   "id": "4b70270d",
   "metadata": {},
   "outputs": [
    {
     "name": "stdout",
     "output_type": "stream",
     "text": [
      "========================================\n",
      "Saving synthetic queries to:  ['datasets_file\\\\output\\\\synthetic_queries.tsv']\n",
      "========================================\n",
      "\n",
      "=======================================\n",
      "| Starting Synthetic Query Generation |\n",
      "=======================================\n",
      "\n"
     ]
    },
    {
     "ename": "AttributeError",
     "evalue": "'list' object has no attribute 'head'",
     "output_type": "error",
     "traceback": [
      "\u001b[1;31m---------------------------------------------------------------------------\u001b[0m",
      "\u001b[1;31mAttributeError\u001b[0m                            Traceback (most recent call last)",
      "Cell \u001b[1;32mIn[10], line 1\u001b[0m\n\u001b[1;32m----> 1\u001b[0m \u001b[43mares\u001b[49m\u001b[38;5;241;43m.\u001b[39;49m\u001b[43mgenerate_synthetic_data\u001b[49m\u001b[43m(\u001b[49m\u001b[43m)\u001b[49m\n",
      "File \u001b[1;32me:\\subject\\PACE-UP\\Evaluation\\ARES\\ares\\ares.py:130\u001b[0m, in \u001b[0;36mARES.generate_synthetic_data\u001b[1;34m(self)\u001b[0m\n\u001b[0;32m    128\u001b[0m     \u001b[38;5;28mprint\u001b[39m(\u001b[38;5;124m\"\u001b[39m\u001b[38;5;124mSkipping synthetic generator configuration due to missing parameters.\u001b[39m\u001b[38;5;124m\"\u001b[39m)\n\u001b[0;32m    129\u001b[0m \u001b[38;5;28;01melse\u001b[39;00m:\n\u001b[1;32m--> 130\u001b[0m     synthetic_generator_config(\u001b[38;5;241m*\u001b[39m\u001b[38;5;241m*\u001b[39m\u001b[38;5;28mself\u001b[39m\u001b[38;5;241m.\u001b[39msynthetic_query_generator_config)\n",
      "File \u001b[1;32me:\\subject\\PACE-UP\\Evaluation\\ARES\\ares\\synthetic_generator.py:125\u001b[0m, in \u001b[0;36msynthetic_generator_config\u001b[1;34m(document_filepaths, few_shot_prompt_filenames, synthetic_queries_filenames, documents_sampled, model_choice, vllm, host_url, api_model, clean_documents, regenerate_synth_questions, percentiles, question_temperatures, regenerate_answers, number_of_negatives_added_ratio, lower_bound_for_negatives, number_of_contradictory_answers_added_ratio, number_of_positives_added_ratio, regenerate_embeddings, synthetic_query_prompt, synthetic_valid_answer_prompt, synthetic_contradictory_answer_prompt)\u001b[0m\n\u001b[0;32m    103\u001b[0m few_shot_examples \u001b[38;5;241m=\u001b[39m load_few_shot_prompt_from_md(\n\u001b[0;32m    104\u001b[0m     few_shot_prompt_filename\n\u001b[0;32m    105\u001b[0m )\n\u001b[0;32m    106\u001b[0m synthetic_queries_config \u001b[38;5;241m=\u001b[39m {\n\u001b[0;32m    107\u001b[0m     \u001b[38;5;124m'\u001b[39m\u001b[38;5;124mfew_shot_examples\u001b[39m\u001b[38;5;124m'\u001b[39m: few_shot_examples,\n\u001b[0;32m    108\u001b[0m     \u001b[38;5;124m'\u001b[39m\u001b[38;5;124mdevice\u001b[39m\u001b[38;5;124m'\u001b[39m: device,\n\u001b[1;32m   (...)\u001b[0m\n\u001b[0;32m    122\u001b[0m     \u001b[38;5;124m'\u001b[39m\u001b[38;5;124mlower_bound_for_negatives\u001b[39m\u001b[38;5;124m'\u001b[39m: lower_bound_for_negatives\n\u001b[0;32m    123\u001b[0m }\n\u001b[1;32m--> 125\u001b[0m \u001b[43mgenerate_synthetic_queries\u001b[49m\u001b[43m(\u001b[49m\u001b[43mdocuments\u001b[49m\u001b[43m,\u001b[49m\u001b[43m \u001b[49m\u001b[43msynthetic_queries_config\u001b[49m\u001b[43m)\u001b[49m\n\u001b[0;32m    126\u001b[0m \u001b[38;5;66;03m# few_shot_examples_for_contradictory_answers = generate_contradictory_answers(\u001b[39;00m\n\u001b[0;32m    127\u001b[0m \u001b[38;5;66;03m#     few_shot_prompt_filename, for_fever_dataset, for_wow_dataset\u001b[39;00m\n\u001b[0;32m    128\u001b[0m \u001b[38;5;66;03m# )\u001b[39;00m\n\u001b[0;32m    129\u001b[0m \u001b[38;5;66;03m#ga1nang change\u001b[39;00m\n\u001b[0;32m    130\u001b[0m \u001b[38;5;250m\u001b[39m\u001b[38;5;124;03m\"\"\"\u001b[39;00m\n\u001b[0;32m    131\u001b[0m \u001b[38;5;124;03manswer_gen_few_shot_examples, length_of_fewshot_prompt_answer_gen = generate_few_shot_prompts(\u001b[39;00m\n\u001b[0;32m    132\u001b[0m \u001b[38;5;124;03m    few_shot_prompt_filename, for_fever_dataset, for_wow_dataset\u001b[39;00m\n\u001b[1;32m   (...)\u001b[0m\n\u001b[0;32m    156\u001b[0m \u001b[38;5;124;03mgenerate_synthetic_answers(synthetic_queries_filename, synthetic_answers_config)\u001b[39;00m\n\u001b[0;32m    157\u001b[0m \u001b[38;5;124;03m\"\"\"\u001b[39;00m\n",
      "File \u001b[1;32me:\\subject\\PACE-UP\\Evaluation\\ARES\\ares\\LLM_as_a_Judge_Adaptation\\Generate_Synthetic_Queries_and_Answers.py:596\u001b[0m, in \u001b[0;36mgenerate_synthetic_queries\u001b[1;34m(documents, settings)\u001b[0m\n\u001b[0;32m    593\u001b[0m     half_num_documents \u001b[38;5;241m+\u001b[39m\u001b[38;5;241m=\u001b[39m \u001b[38;5;241m1\u001b[39m\n\u001b[0;32m    595\u001b[0m \u001b[38;5;66;03m# Split documents into two halves (not used later but possibly for ablation or debugging)\u001b[39;00m\n\u001b[1;32m--> 596\u001b[0m first_half_documents \u001b[38;5;241m=\u001b[39m \u001b[43mdocuments\u001b[49m\u001b[38;5;241;43m.\u001b[39;49m\u001b[43mhead\u001b[49m(half_num_documents)\n\u001b[0;32m    597\u001b[0m second_half_documents \u001b[38;5;241m=\u001b[39m documents\u001b[38;5;241m.\u001b[39mtail(num_documents \u001b[38;5;241m-\u001b[39m half_num_documents)\n\u001b[0;32m    599\u001b[0m  \u001b[38;5;66;03m# Step 1: Generate initial set of positive synthetic queries\u001b[39;00m\n",
      "\u001b[1;31mAttributeError\u001b[0m: 'list' object has no attribute 'head'"
     ]
    }
   ],
   "source": [
    "ares.generate_synthetic_data()"
   ]
  },
  {
   "cell_type": "code",
   "execution_count": null,
   "id": "80324f5e",
   "metadata": {},
   "outputs": [],
   "source": []
  }
 ],
 "metadata": {
  "kernelspec": {
   "display_name": "ARES",
   "language": "python",
   "name": "python3"
  },
  "language_info": {
   "codemirror_mode": {
    "name": "ipython",
    "version": 3
   },
   "file_extension": ".py",
   "mimetype": "text/x-python",
   "name": "python",
   "nbconvert_exporter": "python",
   "pygments_lexer": "ipython3",
   "version": "3.10.16"
  }
 },
 "nbformat": 4,
 "nbformat_minor": 5
}
